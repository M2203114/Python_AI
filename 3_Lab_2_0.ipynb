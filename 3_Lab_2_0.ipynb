{
  "nbformat": 4,
  "nbformat_minor": 0,
  "metadata": {
    "colab": {
      "private_outputs": true,
      "provenance": [],
      "authorship_tag": "ABX9TyPHqphFE30SkQR304H4NA5j",
      "include_colab_link": true
    },
    "kernelspec": {
      "name": "python3",
      "display_name": "Python 3"
    },
    "language_info": {
      "name": "python"
    }
  },
  "cells": [
    {
      "cell_type": "markdown",
      "metadata": {
        "id": "view-in-github",
        "colab_type": "text"
      },
      "source": [
        "<a href=\"https://colab.research.google.com/github/M2203114/Python_AI/blob/fall2024/3_Lab_2_0.ipynb\" target=\"_parent\"><img src=\"https://colab.research.google.com/assets/colab-badge.svg\" alt=\"Open In Colab\"/></a>"
      ]
    },
    {
      "cell_type": "markdown",
      "source": [
        "# 1. Загрузка данных"
      ],
      "metadata": {
        "id": "kLSOoewwwEhw"
      }
    },
    {
      "cell_type": "code",
      "execution_count": null,
      "metadata": {
        "id": "MdDwDT1VufBe"
      },
      "outputs": [],
      "source": [
        "import pandas as pd\n",
        "\n",
        "# Загрузка данных\n",
        "data = pd.read_csv('winequality-red.csv')\n",
        "\n",
        "# Просмотр первых строк данных\n",
        "data.head()"
      ]
    },
    {
      "cell_type": "markdown",
      "source": [
        "# 2. Определение задачи"
      ],
      "metadata": {
        "id": "3DUV_VFgv9RL"
      }
    },
    {
      "cell_type": "markdown",
      "source": [
        "Как мы уже определили, это задача регрессии, так как столбец quality содержит числовые значения, которые мы будем предсказывать."
      ],
      "metadata": {
        "id": "5hkL513Auogn"
      }
    },
    {
      "cell_type": "markdown",
      "source": [
        "# 3. Предобработка данных"
      ],
      "metadata": {
        "id": "Q5JHSsPHuxea"
      }
    },
    {
      "cell_type": "markdown",
      "source": [
        "3.1 Разделение выборки на train и test"
      ],
      "metadata": {
        "id": "RAKJP-S1uuHd"
      }
    },
    {
      "cell_type": "code",
      "source": [
        "from sklearn.model_selection import train_test_split\n",
        "\n",
        "# Разделение данных на признаки и целевую переменную\n",
        "X = data.drop('quality', axis=1)\n",
        "y = data['quality']\n",
        "\n",
        "# Разделение на train и test выборки\n",
        "X_train, X_test, y_train, y_test = train_test_split(X, y, test_size=0.2, random_state=42)"
      ],
      "metadata": {
        "id": "F9v6TCaZutZd"
      },
      "execution_count": null,
      "outputs": []
    },
    {
      "cell_type": "markdown",
      "source": [
        "3.2 Проверка и заполнение пропусков"
      ],
      "metadata": {
        "id": "Jq4k7GB1u9YX"
      }
    },
    {
      "cell_type": "code",
      "source": [
        "# Проверка наличия пропусков\n",
        "print(X_train.isnull().sum())\n",
        "print(X_test.isnull().sum())"
      ],
      "metadata": {
        "id": "B8gkwdW3u_Sv"
      },
      "execution_count": null,
      "outputs": []
    },
    {
      "cell_type": "markdown",
      "source": [
        "3.3 Нормирование числовых переменных"
      ],
      "metadata": {
        "id": "_-IPgbjvvEQ9"
      }
    },
    {
      "cell_type": "code",
      "source": [
        "from sklearn.preprocessing import StandardScaler\n",
        "\n",
        "# Нормирование числовых признаков\n",
        "scaler = StandardScaler()\n",
        "X_train_scaled = scaler.fit_transform(X_train)\n",
        "X_test_scaled = scaler.transform(X_test)"
      ],
      "metadata": {
        "id": "XlCNzgmKvEsS"
      },
      "execution_count": null,
      "outputs": []
    },
    {
      "cell_type": "markdown",
      "source": [
        "3.4 Кодирование категориальных признаков\n",
        "\n",
        "В данном датасете нет категориальных признаков, поэтому этот шаг можно пропустить."
      ],
      "metadata": {
        "id": "HuSAe2i4vIO2"
      }
    },
    {
      "cell_type": "markdown",
      "source": [
        "# 4. Обучение моделей"
      ],
      "metadata": {
        "id": "xvjzp7k-vL2q"
      }
    },
    {
      "cell_type": "markdown",
      "source": [
        "4.1 Линейная модель (LinearRegression)"
      ],
      "metadata": {
        "id": "WKhP_NpXvRSc"
      }
    },
    {
      "cell_type": "code",
      "source": [
        "from sklearn.linear_model import LinearRegression\n",
        "\n",
        "# Обучение модели\n",
        "lr_model = LinearRegression()\n",
        "lr_model.fit(X_train_scaled, y_train)"
      ],
      "metadata": {
        "id": "jvXLiZyXvUKq"
      },
      "execution_count": null,
      "outputs": []
    },
    {
      "cell_type": "markdown",
      "source": [
        "4.2 Деревянная модель (DecisionTreeRegressor)"
      ],
      "metadata": {
        "id": "c9t7zzGGvWB6"
      }
    },
    {
      "cell_type": "code",
      "source": [
        "from sklearn.tree import DecisionTreeRegressor\n",
        "\n",
        "# Обучение модели с разными глубинами деревьев\n",
        "dt_model = DecisionTreeRegressor(max_depth=5, random_state=42)\n",
        "dt_model.fit(X_train_scaled, y_train)"
      ],
      "metadata": {
        "id": "OIjGeVUjvXiN"
      },
      "execution_count": null,
      "outputs": []
    },
    {
      "cell_type": "markdown",
      "source": [
        "4.3 K-ближайших соседей (KNeighborsRegressor)"
      ],
      "metadata": {
        "id": "roP4ZDC-vYwY"
      }
    },
    {
      "cell_type": "code",
      "source": [
        "from sklearn.neighbors import KNeighborsRegressor\n",
        "\n",
        "# Обучение модели с разными k\n",
        "knn_model = KNeighborsRegressor(n_neighbors=5)\n",
        "knn_model.fit(X_train_scaled, y_train)"
      ],
      "metadata": {
        "id": "tcTBYa-kvacN"
      },
      "execution_count": null,
      "outputs": []
    },
    {
      "cell_type": "markdown",
      "source": [
        "4.4 Случайный лес (RandomForestRegressor)"
      ],
      "metadata": {
        "id": "SOcUuqpwvcAe"
      }
    },
    {
      "cell_type": "code",
      "source": [
        "from sklearn.ensemble import RandomForestRegressor\n",
        "\n",
        "# Обучение модели\n",
        "rf_model = RandomForestRegressor(n_estimators=100, max_depth=5, random_state=42)\n",
        "rf_model.fit(X_train_scaled, y_train)"
      ],
      "metadata": {
        "id": "BGUQi1O-vdj7"
      },
      "execution_count": null,
      "outputs": []
    },
    {
      "cell_type": "markdown",
      "source": [
        "# 5. Оценка моделей\n",
        "\n"
      ],
      "metadata": {
        "id": "v4XP6v1lvhbq"
      }
    },
    {
      "cell_type": "markdown",
      "source": [
        "5.1 Метрики для регрессии (MAE, RMSE, MAPE)"
      ],
      "metadata": {
        "id": "i6_E1jtuvjq0"
      }
    },
    {
      "cell_type": "code",
      "source": [
        "from sklearn.metrics import mean_absolute_error, mean_squared_error, mean_absolute_percentage_error\n",
        "import numpy as np\n",
        "\n",
        "# Функция для расчета метрик\n",
        "def evaluate_model(model, X_train, X_test, y_train, y_test):\n",
        "    y_train_pred = model.predict(X_train)\n",
        "    y_test_pred = model.predict(X_test)\n",
        "\n",
        "    mae_train = mean_absolute_error(y_train, y_train_pred)\n",
        "    mae_test = mean_absolute_error(y_test, y_test_pred)\n",
        "\n",
        "    rmse_train = np.sqrt(mean_squared_error(y_train, y_train_pred))\n",
        "    rmse_test = np.sqrt(mean_squared_error(y_test, y_test_pred))\n",
        "\n",
        "    mape_train = mean_absolute_percentage_error(y_train, y_train_pred)\n",
        "    mape_test = mean_absolute_percentage_error(y_test, y_test_pred)\n",
        "\n",
        "    return mae_train, mae_test, rmse_train, rmse_test, mape_train, mape_test\n",
        "\n",
        "# Оценка каждой модели\n",
        "models = {\n",
        "    'Linear Regression': lr_model,\n",
        "    'Decision Tree': dt_model,\n",
        "    'KNN': knn_model,\n",
        "    'Random Forest': rf_model\n",
        "}\n",
        "\n",
        "results = {}\n",
        "\n",
        "for name, model in models.items():\n",
        "    results[name] = evaluate_model(model, X_train_scaled, X_test_scaled, y_train, y_test)\n",
        "\n",
        "# Вывод результатов\n",
        "for name, metrics in results.items():\n",
        "    print(f\"{name}:\")\n",
        "    print(f\"  Train MAE: {metrics[0]:.4f}, Test MAE: {metrics[1]:.4f}\")\n",
        "    print(f\"  Train RMSE: {metrics[2]:.4f}, Test RMSE: {metrics[3]:.4f}\")\n",
        "    print(f\"  Train MAPE: {metrics[4]:.4f}, Test MAPE: {metrics[5]:.4f}\")\n",
        "    print()"
      ],
      "metadata": {
        "id": "NFVUwI3RvlBw"
      },
      "execution_count": null,
      "outputs": []
    },
    {
      "cell_type": "markdown",
      "source": [
        "# 6. Анализ результатов"
      ],
      "metadata": {
        "id": "HOkg8Un6wJyv"
      }
    },
    {
      "cell_type": "markdown",
      "source": [
        "6.1 Какая модель справилась лучше с поставленной задачей?\n",
        "\n",
        "На основе метрик MAE, RMSE и MAPE, модель Random Forest показала лучшие результаты на тестовой выборке."
      ],
      "metadata": {
        "id": "dHxbCpUfwNhx"
      }
    },
    {
      "cell_type": "markdown",
      "source": [
        "6.2 Имеет ли место переобучение?\n",
        "\n",
        "Да, есть небольшое переобучение, особенно у модели Decision Tree, где разница между train и test метриками значительна."
      ],
      "metadata": {
        "id": "BHSoc8AHwRUM"
      }
    },
    {
      "cell_type": "markdown",
      "source": [
        "6.3 Имеет ли место недообучение?\n",
        "\n",
        "Нет, недообучения не наблюдается, так как метрики на train и test выборках достаточно близки для большинства моделей."
      ],
      "metadata": {
        "id": "m9OFLDdqwSp1"
      }
    },
    {
      "cell_type": "markdown",
      "source": [
        "6.4 Как можно улучшить метрики моделей?\n",
        "\n",
        "\n",
        "*   Для улучшения метрик можно попробовать использовать более сложные модели, такие как градиентный бустинг (XGBoost, LightGBM).\n",
        "*   Также можно попробовать подбор гиперпараметров с помощью GridSearchCV или RandomizedSearchCV.\n",
        "*   Возможно, стоит попробовать добавить полиномиальные признаки или использовать методы отбора признаков.\n",
        "\n"
      ],
      "metadata": {
        "id": "dE7SamygwUrC"
      }
    }
  ]
}