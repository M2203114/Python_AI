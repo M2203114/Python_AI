{
  "nbformat": 4,
  "nbformat_minor": 0,
  "metadata": {
    "colab": {
      "private_outputs": true,
      "provenance": [],
      "authorship_tag": "ABX9TyPKtGbF1aReJooEi+X772BD",
      "include_colab_link": true
    },
    "kernelspec": {
      "name": "python3",
      "display_name": "Python 3"
    },
    "language_info": {
      "name": "python"
    }
  },
  "cells": [
    {
      "cell_type": "markdown",
      "metadata": {
        "id": "view-in-github",
        "colab_type": "text"
      },
      "source": [
        "<a href=\"https://colab.research.google.com/github/M2203114/Python_AI/blob/fall2024/03_lab_ml_intro.ipynb\" target=\"_parent\"><img src=\"https://colab.research.google.com/assets/colab-badge.svg\" alt=\"Open In Colab\"/></a>"
      ]
    },
    {
      "cell_type": "markdown",
      "source": [
        "Считывание файла"
      ],
      "metadata": {
        "id": "6UDLPQ7C2O-5"
      }
    },
    {
      "cell_type": "code",
      "execution_count": null,
      "metadata": {
        "id": "cxRZUENU1E0N"
      },
      "outputs": [],
      "source": [
        "import pandas as pd\n",
        "\n",
        "# Загрузка данных\n",
        "data = pd.read_csv('winequality-red.csv')\n",
        "\n",
        "# Просмотр первых строк данных\n",
        "data.head()"
      ]
    },
    {
      "cell_type": "markdown",
      "source": [
        "Определение типа задачи"
      ],
      "metadata": {
        "id": "vHqSC6C62TwX"
      }
    },
    {
      "cell_type": "code",
      "source": [
        "import pandas as pd\n",
        "import numpy as np\n",
        "from sklearn.model_selection import train_test_split\n",
        "from sklearn.preprocessing import StandardScaler\n",
        "from sklearn.multiclass import OneVsRestClassifier\n",
        "from sklearn.linear_model import LogisticRegression\n",
        "from sklearn.tree import DecisionTreeClassifier\n",
        "from sklearn.neighbors import KNeighborsClassifier\n",
        "from sklearn.ensemble import RandomForestClassifier\n",
        "from sklearn.metrics import accuracy_score, f1_score, classification_report, confusion_matrix\n",
        "\n",
        "# Разделение данных на признаки (X) и целевую переменную (y)\n",
        "X = data.drop('quality', axis=1)\n",
        "y = data['quality']\n",
        "\n",
        "# Проверка уникальных значений в целевой переменной\n",
        "print(\"Уникальные значения в столбце 'quality':\", y.unique())"
      ],
      "metadata": {
        "id": "Q_asXPAR2dEu"
      },
      "execution_count": null,
      "outputs": []
    },
    {
      "cell_type": "markdown",
      "source": [
        "Уникальные значения в столбце quality показывают, что у нас многоклассовая классификация, так как количество уникальных значений больше двух.\n"
      ],
      "metadata": {
        "id": "cxS6mZQG4dvH"
      }
    },
    {
      "cell_type": "markdown",
      "source": [
        "Предобработка данных\n",
        "\n",
        "Разделение выборки на тренировочную и тестовую\n"
      ],
      "metadata": {
        "id": "L50fzcia4s7i"
      }
    },
    {
      "cell_type": "code",
      "source": [
        "from sklearn.model_selection import train_test_split\n",
        "\n",
        "# Разделение данных на признаки и целевую переменную\n",
        "X = data.drop('quality', axis=1)\n",
        "y = data['quality']\n",
        "\n",
        "# Разделение на тренировочную и тестовую выборки\n",
        "X_train, X_test, y_train, y_test = train_test_split(X, y, test_size=0.2, random_state=42)"
      ],
      "metadata": {
        "id": "PmR2H2Om4pDl"
      },
      "execution_count": null,
      "outputs": []
    },
    {
      "cell_type": "markdown",
      "source": [
        "**Проверка и заполнение пропусков**"
      ],
      "metadata": {
        "id": "HIg2veqj70aF"
      }
    },
    {
      "cell_type": "code",
      "source": [
        "# Проверка пропусков\n",
        "print(\"Пропуски в данных (train):\")\n",
        "print(X_train.isnull().sum())\n",
        "print(\"Пропуски в данных (test):\")\n",
        "print(X_test.isnull().sum())\n",
        "\n",
        "# Заполнение пропусков (если они есть)\n",
        "X_train.fillna(X_train.mean(), inplace=True)\n",
        "X_test.fillna(X_train.mean(), inplace=True)"
      ],
      "metadata": {
        "id": "pgf0zrWQ74ek"
      },
      "execution_count": null,
      "outputs": []
    },
    {
      "cell_type": "markdown",
      "source": [
        "**Нормирование числовых признаков**"
      ],
      "metadata": {
        "id": "WtoA9dsg8A4U"
      }
    },
    {
      "cell_type": "code",
      "source": [
        "from sklearn.preprocessing import StandardScaler\n",
        "\n",
        "# Инициализация StandardScaler\n",
        "scaler = StandardScaler()\n",
        "\n",
        "# Нормирование тренировочных данных\n",
        "X_train_scaled = scaler.fit_transform(X_train)\n",
        "\n",
        "# Нормирование тестовых данных\n",
        "X_test_scaled = scaler.transform(X_test)"
      ],
      "metadata": {
        "id": "U4cqAQjV8AW8"
      },
      "execution_count": null,
      "outputs": []
    },
    {
      "cell_type": "markdown",
      "source": [
        "**Обучение моделей**"
      ],
      "metadata": {
        "id": "At2kYo2c8Le1"
      }
    },
    {
      "cell_type": "markdown",
      "source": [
        "**Линейная модель (LogisticRegression)**"
      ],
      "metadata": {
        "id": "poK6iEbJ8MmD"
      }
    },
    {
      "cell_type": "code",
      "source": [
        "from sklearn.linear_model import LogisticRegression\n",
        "from sklearn.multiclass import OneVsRestClassifier\n",
        "\n",
        "# Инициализация модели\n",
        "logreg = OneVsRestClassifier(LogisticRegression(max_iter=1000, random_state=42))\n",
        "\n",
        "# Обучение модели\n",
        "logreg.fit(X_train_scaled, y_train)"
      ],
      "metadata": {
        "id": "zm8jYVfD8UQp"
      },
      "execution_count": null,
      "outputs": []
    },
    {
      "cell_type": "markdown",
      "source": [
        "**Деревянная модель**"
      ],
      "metadata": {
        "id": "ES7plL-g8QRc"
      }
    },
    {
      "cell_type": "code",
      "source": [
        "from sklearn.tree import DecisionTreeClassifier\n",
        "\n",
        "# Инициализация модели\n",
        "dt = DecisionTreeClassifier(random_state=42)\n",
        "\n",
        "# Обучение модели\n",
        "dt.fit(X_train_scaled, y_train)"
      ],
      "metadata": {
        "id": "c1dqdIU_8124"
      },
      "execution_count": null,
      "outputs": []
    },
    {
      "cell_type": "markdown",
      "source": [
        "**KNeighborsClassifier**"
      ],
      "metadata": {
        "id": "NLFq54Yy9t7K"
      }
    },
    {
      "cell_type": "code",
      "source": [
        "from sklearn.neighbors import KNeighborsClassifier\n",
        "\n",
        "# Инициализация модели\n",
        "knn = KNeighborsClassifier()\n",
        "\n",
        "# Обучение модели\n",
        "knn.fit(X_train_scaled, y_train)"
      ],
      "metadata": {
        "id": "qWRHYCTw9vH_"
      },
      "execution_count": null,
      "outputs": []
    },
    {
      "cell_type": "markdown",
      "source": [
        "**RandomForestClassifier**"
      ],
      "metadata": {
        "id": "YrvaYJBI99Fq"
      }
    },
    {
      "cell_type": "code",
      "source": [
        "from sklearn.ensemble import RandomForestClassifier\n",
        "\n",
        "# Инициализация модели\n",
        "rf = RandomForestClassifier(random_state=42)\n",
        "\n",
        "# Обучение модели\n",
        "rf.fit(X_train_scaled, y_train)"
      ],
      "metadata": {
        "id": "3VjSyBR29-Fi"
      },
      "execution_count": null,
      "outputs": []
    },
    {
      "cell_type": "markdown",
      "source": [
        "**Оценка моделей**"
      ],
      "metadata": {
        "id": "drXYl8q9-BzT"
      }
    },
    {
      "cell_type": "markdown",
      "source": [
        "**Функция для вывода метрик**"
      ],
      "metadata": {
        "id": "K6XfbJpL-LA0"
      }
    },
    {
      "cell_type": "code",
      "source": [
        "from sklearn.metrics import precision_recall_curve, auc, accuracy_score, f1_score, roc_auc_score\n",
        "from sklearn.preprocessing import label_binarize\n",
        "import matplotlib.pyplot as plt\n",
        "\n",
        "# Функция для вычисления метрик и построения PR-кривой для каждого класса\n",
        "def evaluate_model(model, X_train, X_test, y_train, y_test, model_name):\n",
        "    y_train_pred = model.predict(X_train)\n",
        "    y_test_pred = model.predict(X_test)\n",
        "\n",
        "    acc_train = accuracy_score(y_train, y_train_pred)\n",
        "    acc_test = accuracy_score(y_test, y_test_pred)\n",
        "\n",
        "    f1_train = f1_score(y_train, y_train_pred, average='weighted')\n",
        "    f1_test = f1_score(y_test, y_test_pred, average='weighted')\n",
        "\n",
        "    print(f\"{model_name}:\")\n",
        "    print(f\"Accuracy (Train): {acc_train:.4f}\")\n",
        "    print(f\"Accuracy (Test): {acc_test:.4f}\")\n",
        "    print(f\"F1 Score (Train): {f1_train:.4f}\")\n",
        "    print(f\"F1 Score (Test): {f1_test:.4f}\")\n",
        "\n",
        "    # ROC-AUC\n",
        "    try:\n",
        "        roc_auc_train = roc_auc_score(y_train, model.predict_proba(X_train), multi_class='ovr')\n",
        "        roc_auc_test = roc_auc_score(y_test, model.predict_proba(X_test), multi_class='ovr')\n",
        "        print(f\"ROC-AUC (Train): {roc_auc_train:.4f}\")\n",
        "        print(f\"ROC-AUC (Test): {roc_auc_test:.4f}\")\n",
        "    except:\n",
        "        print(\"ROC-AUC не поддерживается для этой модели\")\n",
        "\n",
        "    # PR-кривая для многоклассовой классификации\n",
        "    try:\n",
        "        # Бинаризация меток\n",
        "        y_test_bin = label_binarize(y_test, classes=[3, 4, 5, 6, 7, 8])\n",
        "        n_classes = y_test_bin.shape[1]\n",
        "\n",
        "        # Получение вероятностей для каждого класса\n",
        "        y_scores = model.predict_proba(X_test)\n",
        "\n",
        "        # Построение PR-кривых для каждого класса\n",
        "        plt.figure(figsize=(10, 8))\n",
        "        for i in range(n_classes):\n",
        "            precision, recall, _ = precision_recall_curve(y_test_bin[:, i], y_scores[:, i])\n",
        "            pr_auc = auc(recall, precision)\n",
        "            plt.plot(recall, precision, label=f'Class {i+3} PR-кривая (area = {pr_auc:.2f})')\n",
        "\n",
        "        plt.xlabel('Recall')\n",
        "        plt.ylabel('Precision')\n",
        "        plt.title(f'Precision-Recall curve for {model_name}')\n",
        "        plt.legend(loc=\"lower right\")\n",
        "        plt.show()\n",
        "    except:\n",
        "        print(\"PR-кривая не может быть построена для этой модели\")\n",
        "\n",
        "# Оценка каждой модели\n",
        "evaluate_model(logreg, X_train_scaled, X_test_scaled, y_train, y_test, \"Logistic Regression\")\n",
        "evaluate_model(dt, X_train_scaled, X_test_scaled, y_train, y_test, \"Decision Tree\")\n",
        "evaluate_model(knn, X_train_scaled, X_test_scaled, y_train, y_test, \"K-Nearest Neighbors\")\n",
        "evaluate_model(rf, X_train_scaled, X_test_scaled, y_train, y_test, \"Random Forest\")"
      ],
      "metadata": {
        "id": "ufjLaH2b-Nqq"
      },
      "execution_count": null,
      "outputs": []
    },
    {
      "cell_type": "markdown",
      "source": [
        "# Кратко + ответы на вопросы"
      ],
      "metadata": {
        "id": "Bwsu-c3tlPjk"
      }
    },
    {
      "cell_type": "markdown",
      "source": [
        "\n",
        "Логистическая Регрессия:\n",
        "\n",
        "\n",
        "Accuracy (Train): 0.6031\n",
        "\n",
        "Accuracy (Test): 0.5666\n",
        "\n",
        "ROC-AUC (Train): 0.8416\n",
        "\n",
        "ROC-AUC (Test): 0.8389\n",
        "\n",
        "F1 Score (Train): 0.5748\n",
        "\n",
        "F1 Score (Test): 0.5229\n",
        "\n",
        "______________________________________________\n",
        "\n",
        "Дерево Решений:\n",
        "\n",
        "\n",
        "Accuracy (Train): 1.0000\n",
        "\n",
        "Accuracy (Test): 0.5625\n",
        "\n",
        "ROC-AUC (Train): 1.0000\n",
        "\n",
        "ROC-AUC (Test): 0.5861\n",
        "\n",
        "F1 Score (Train): 1.0000\n",
        "\n",
        "F1 Score (Test): 0.5576\n",
        "\n",
        "\n",
        "______________________________________________\n",
        "K-Nearest Neighbors (KNN):\n",
        "\n",
        "\n",
        "Accuracy (Train): 0.7177\n",
        "\n",
        "Accuracy (Test): 0.5469\n",
        "\n",
        "ROC-AUC (Train): 0.9384\n",
        "\n",
        "ROC-AUC (Test): 0.6746\n",
        "\n",
        "F1 Score (Train): 0.7032\n",
        "\n",
        "F1 Score (Test): 0.5309\n",
        "\n",
        "______________________________________________\n",
        "Случайный Лес:\n",
        "\n",
        "\n",
        "Accuracy (Train): 1.0000\n",
        "\n",
        "Accuracy (Test): 0.6594\n",
        "\n",
        "ROC-AUC (Train): 1.0000\n",
        "\n",
        "ROC-AUC (Test): 0.7804\n",
        "\n",
        "F1 Score (Train): 1.0000\n",
        "\n",
        "F1 Score (Test): 0.6438\n",
        "\n",
        "\n",
        "______________________________________________\n",
        "\n",
        "Сравнение метрик:\n",
        "\n",
        "Точность (Accuracy):\n",
        "\n",
        "\n",
        "Лучшая модель на тестовых данных: Случайный Лес (0.6594)\n",
        "\n",
        "Худшая модель на тестовых данных: Дерево Решений (0.5625)\n",
        "\n",
        "______________________________________________\n",
        "ROC-AUC:\n",
        "\n",
        "\n",
        "Лучшая модель на тестовых данных: Случайный Лес (0.7804)\n",
        "\n",
        "Худшая модель на тестовых данных: Дерево Решений (0.5861)\n",
        "\n",
        "______________________________________________\n",
        "F1 Score:\n",
        "\n",
        "Лучшая модель на тестовых данных: Случайный Лес (0.6438)\n",
        "\n",
        "Худшая модель на тестовых данных: Дерево Решений (0.5576)\n",
        "\n",
        "\n",
        "______________________________________________\n",
        "Ответы на вопросы:\n",
        "\n",
        "Какая модель справилась лучше с поставленной задачей?\n",
        "\n",
        "Случайный Лес показал лучшие результаты на тестовых данных по всем метрикам (Accuracy, ROC-AUC, F1 Score).\n",
        "\n",
        "______________________________________________\n",
        "Имеет ли место переобучение?\n",
        "\n",
        "Да, имеет место переобучение. Особенно это заметно у Дерева Решений и Случайного Леса, где метрики на тренировочных данных равны 1, а на тестовых данных значительно ниже.\n",
        "\n",
        "______________________________________________\n",
        "Имеет ли место недообучение?\n",
        "\n",
        "Недообучение в данном случае не наблюдается, так как модели на тренировочных данных показывают высокие результаты.\n",
        "______________________________________________\n",
        "Как можно улучшить метрики моделей?\n",
        "\n",
        "Для уменьшения переобучения:\n",
        "\n",
        "*Использовать регуляризацию (например, ограничение глубины\n",
        "деревьев, минимальное количество примеров в листьях для деревьев решений и случайного леса).\n",
        "\n",
        "*Подбор гиперпараметров с помощью поиска по сетке или случайного поиска.\n",
        "\n",
        "______________________________________________\n",
        "Для улучшения производительности:\n",
        "\n",
        "*Провести анализ дисбаланса классов и использовать методы балансировки данных (upsampling/downsampling).\n",
        "\n",
        "*Увеличить объем данных для тренировки.\n",
        "\n",
        "*Использовать ансамбли методов, такие как градиентный бустинг, для улучшения обобщающей способности.\n"
      ],
      "metadata": {
        "id": "ctBZQZrUlYkT"
      }
    },
    {
      "cell_type": "markdown",
      "source": [
        "# Общий анализ:\n",
        "\n",
        "**Переобучение:**\n",
        "\n",
        "Дерево Решений и Случайный Лес демонстрируют сильное переобучение. Они идеально подходят для тренировочных данных (точность, F1 Score и ROC-AUC равны 1), но значительно хуже работают на тестовых данных.\n",
        "\n",
        "Логистическая Регрессия и KNN также показывают некоторое переобучение, но в меньшей степени. Точность, F1 Score и ROC-AUC на тренировочных данных выше, чем на тестовых, но разница не так значительна.\n",
        "\n",
        "**Производительность на тестовых данных:**\n",
        "\n",
        "Случайный Лес имеет наилучшую точность (0.6594) и F1 Score (0.6438) среди всех моделей на тестовых данных, хотя и страдает от переобучения.\n",
        "\n",
        "Логистическая Регрессия и KNN показывают схожие результаты на тестовых данных, но немного хуже, чем Случайный Лес.\n",
        "Дерево Решений имеет самые низкие показатели на тестовых данных, что указывает на его неспособность обобщать.\n",
        "\n",
        "**Precision-Recall Curve:**\n",
        "\n",
        "Случайный Лес показывает лучшие результаты на большинстве классов, особенно на классе 5 (PR-AUC = 0.85).\n",
        "KNN и Логистическая Регрессия также показывают приемлемые результаты на некоторых классах, но хуже справляются с классами 3 и 8.\n",
        "\n",
        "Дерево Решений плохо справляется с классами 3 и 8, а также имеет низкие значения PR-AUC для других классов.\n",
        "\n",
        "**Заключение:**\n",
        "\n",
        "Случайный Лес является наиболее мощной моделью среди рассмотренных, но страдает от сильного переобучения. Несмотря на это, он показывает лучшие результаты на тестовых данных по сравнению с другими моделями.\n",
        "\n",
        "Логистическая Регрессия и KNN демонстрируют умеренные результаты с некоторым переобучением, но они более стабильны и менее склонны к переобучению по сравнению с деревом решений и случайным лесом.\n",
        "\n",
        "Дерево Решений показывает худшие результаты из всех моделей, как на тренировочных, так и на тестовых данных, и требует значительного улучшения."
      ],
      "metadata": {
        "id": "dnJfBwMtiJA9"
      }
    },
    {
      "cell_type": "markdown",
      "source": [
        "**Анализ вывода для ЛОГИСТИЧЕСКОЙ РЕГРЕССИИ**"
      ],
      "metadata": {
        "id": "tuDxcspEFTmI"
      }
    },
    {
      "cell_type": "markdown",
      "source": [
        "Метрики для Логистической Регрессии:\n",
        "\n",
        "Accuracy (Точность):\n",
        "\n",
        "Тренировочные данные: 0.6031\n",
        "\n",
        "Тестовые данные: 0.5666\n",
        "\n",
        "Точность модели на тренировочных данных немного выше, чем на тестовых, что может указывать на небольшое переобучение. Однако, разница не очень значительна.\n",
        "\n",
        "F1 Score:\n",
        "\n",
        "Тренировочные данные: 0.5748\n",
        "\n",
        "Тестовые данные: 0.5229\n",
        "\n",
        "F1 Score, который учитывает как точность (precision), так и полноту (recall), также немного выше на тренировочных данных. Это согласуется с наблюдением по точности.\n",
        "\n",
        "ROC-AUC:\n",
        "\n",
        "Тренировочные данные: 0.8416\n",
        "\n",
        "Тестовые данные: 0.8389\n",
        "\n",
        "Значения ROC-AUC очень близки, что указывает на хорошую способность модели различать классы как на тренировочных, так и на тестовых данных.\n",
        "\n",
        "График Precision-Recall Curve:\n",
        "\n",
        "График Precision-Recall (PR) показывает компромисс между точностью (precision) и полнотой (recall) для различных классов. На графике указаны значения площади под кривой (PR-kymeas) для каждого класса:\n",
        "\n",
        "Class 3: area=0.02\n",
        "\n",
        "Class 4: area=0.28\n",
        "\n",
        "Class 5: area=0.08\n",
        "\n",
        "Class 6: area=0.52\n",
        "\n",
        "Class 7: area=0.38\n",
        "\n",
        "Class 8: area=0.19\n",
        "\n",
        "Площадь под кривой PR (PR-AUC) является мерой того, насколько хорошо модель может различать положительные и отрицательные примеры для каждого класса. Чем выше значение PR-AUC, тем лучше модель работает для данного класса.\n",
        "\n",
        "Class 6 имеет наибольшую площадь (0.52), что указывает на лучшую производительность для этого класса.\n",
        "\n",
        "Class 3 и Class 5 имеют наименьшие значения (0.02 и 0.08 соответственно), что говорит о том, что модель хуже справляется с этими классами.\n"
      ],
      "metadata": {
        "id": "OdOAu-4ra32-"
      }
    },
    {
      "cell_type": "markdown",
      "source": [
        "**Анализ вывода для ДЕРЕВА РЕШЕНИЙ**"
      ],
      "metadata": {
        "id": "cI97TLMzfWsy"
      }
    },
    {
      "cell_type": "markdown",
      "source": [
        "Метрики для Дерева Решений:\n",
        "\n",
        "Accuracy (Точность):\n",
        "\n",
        "Тренировочные данные: 1.0000\n",
        "\n",
        "Тестовые данные: 0.5625\n",
        "\n",
        "Точность на тренировочных данных равна 1, что указывает на идеальное соответствие. Однако, на тестовых данных точность\n",
        "значительно ниже, что сигнализирует о сильном переобучении.\n",
        "\n",
        "F1 Score:\n",
        "\n",
        "Тренировочные данные: 1.0000\n",
        "\n",
        "Тестовые данные: 0.5576\n",
        "\n",
        "F1 Score, который учитывает как точность (precision), так и полноту (recall), также показывает идеальные значения на тренировочных данных, но значительно хуже на тестовых данных. Это подтверждает проблему переобучения.\n",
        "\n",
        "ROC-AUC:\n",
        "\n",
        "Тренировочные данные: 1.0000\n",
        "\n",
        "Тестовые данные: 0.5861\n",
        "\n",
        "ROC-AUC на тренировочных данных также равен 1, что указывает на идеальное различение классов. Однако, на тестовых данных ROC-AUC значительно ниже, что свидетельствует о плохой способности модели обобщать на новые данные.\n",
        "\n",
        "График Precision-Recall Curve:\n",
        "\n",
        "График Precision-Recall (PR) показывает компромисс между точностью (precision) и полнотой (recall) для различных классов. На графике указаны значения площади под кривой (PR-кривая) для каждого класса:\n",
        "\n",
        "Class 3: area=0.00\n",
        "\n",
        "Class 4: area=0.02\n",
        "\n",
        "Class 5: area=0.72\n",
        "\n",
        "Class 6: area=0.64\n",
        "\n",
        "Class 7: area=0.54\n",
        "\n",
        "Class 8: area=0.01\n",
        "\n",
        "Площадь под кривой PR (PR-AUC) является мерой того, насколько хорошо модель может различать положительные и отрицательные примеры для каждого класса. Чем выше значение PR-AUC, тем лучше модель работает для данного класса.\n",
        "\n",
        "Class 5 и Class 6 имеют наибольшие площади (0.72 и 0.64 соответственно), что указывает на лучшую производительность для этих классов.\n",
        "\n",
        "Class 3 и Class 8 имеют наименьшие значения (0.00 и 0.01 соответственно), что говорит о том, что модель практически не справляется с этими классами.\n",
        "\n",
        "Вывод:\n",
        "\n",
        "Дерево Решений демонстрирует сильное переобучение, так как модель идеально подходит для тренировочных данных, но значительно хуже работает на тестовых данных. Это видно по низким значениям точности, F1 Score и ROC-AUC на тестовых данных.\n",
        "\n",
        "График Precision-Recall Curve показывает, что модель хорошо справляется с классами 5 и 6, но плохо с классами 3 и 8."
      ],
      "metadata": {
        "id": "fuOzpKScfZbw"
      }
    },
    {
      "cell_type": "markdown",
      "source": [
        "**Анализ вывода для *K-Nearest Neighbors***"
      ],
      "metadata": {
        "id": "N0hj-C7IgQx6"
      }
    },
    {
      "cell_type": "markdown",
      "source": [
        "Метрики для K-Nearest Neighbors:\n",
        "\n",
        "Accuracy (Точность):\n",
        "\n",
        "Тренировочные данные: 0.7177\n",
        "\n",
        "Тестовые данные: 0.5469\n",
        "\n",
        "Точность на тренировочных данных выше, чем на тестовых, что может указывать на некоторое переобучение. Однако, разница не так значительна, как в случае с деревом решений.\n",
        "\n",
        "F1 Score:\n",
        "\n",
        "Тренировочные данные: 0.7032\n",
        "\n",
        "Тестовые данные: 0.5309\n",
        "\n",
        "F1 Score, который учитывает как точность (precision), так и полноту (recall), также выше на тренировочных данных. Это согласуется с наблюдением по точности.\n",
        "\n",
        "ROC-AUC:\n",
        "\n",
        "Тренировочные данные: 0.9384\n",
        "\n",
        "Тестовые данные: 0.6746\n",
        "\n",
        "ROC-AUC на тренировочных данных значительно выше, чем на тестовых, что указывает на то, что модель лучше различает классы на тренировочных данных, но хуже обобщает на новые данные.\n",
        "\n",
        "График Precision-Recall Curve:\n",
        "\n",
        "График Precision-Recall (PR) показывает компромисс между точностью (precision) и полнотой (recall) для различных классов. На графике указаны значения площади под кривой (PR-кривая) для каждого класса:\n",
        "\n",
        "Class 3: area=0.00\n",
        "\n",
        "Class 4: area=0.26\n",
        "\n",
        "Class 5: area=0.75\n",
        "\n",
        "Class 6: area=0.54\n",
        "\n",
        "Class 7: area=0.49\n",
        "\n",
        "Class 8: area=0.06\n",
        "\n",
        "Площадь под кривой PR (PR-AUC) является мерой того, насколько хорошо модель может различать положительные и отрицательные примеры для каждого класса. Чем выше значение PR-AUC, тем лучше модель работает для данного класса.\n",
        "\n",
        "Class 5 имеет наибольшую площадь (0.75), что указывает на лучшую производительность для этого класса.\n",
        "\n",
        "Class 3 и Class 8 имеют наименьшие значения (0.00 и 0.06 соответственно), что говорит о том, что модель практически не справляется с этими классами.\n",
        "\n",
        "Вывод:\n",
        "\n",
        "K-Nearest Neighbors показывает умеренные результаты с некоторым переобучением. Точность, F1 Score и ROC-AUC выше на тренировочных данных, чем на тестовых, что указывает на некоторую склонность к переобучению.\n",
        "График Precision-Recall Curve показывает, что модель хорошо справляется с классом 5, но плохо с классами 3 и 8."
      ],
      "metadata": {
        "id": "hpuvFkJ4gsTa"
      }
    },
    {
      "cell_type": "markdown",
      "source": [
        "**Анализ вывода для *Случайного Леса***"
      ],
      "metadata": {
        "id": "vUHJCwKxhLVI"
      }
    },
    {
      "cell_type": "markdown",
      "source": [
        "Метрики для Случайного Леса:\n",
        "\n",
        "Accuracy (Точность):\n",
        "\n",
        "Тренировочные данные: 1.0000\n",
        "\n",
        "Тестовые данные: 0.6594\n",
        "\n",
        "Точность на тренировочных данных равна 1, что указывает на идеальное соответствие. Однако, на тестовых данных точность значительно ниже, что сигнализирует о переобучении.\n",
        "\n",
        "F1 Score:\n",
        "\n",
        "Тренировочные данные: 1.0000\n",
        "\n",
        "Тестовые данные: 0.6438\n",
        "\n",
        "F1 Score, который учитывает как точность (precision), так и полноту (recall), также показывает идеальные значения на тренировочных данных, но значительно хуже на тестовых данных.\n",
        "\n",
        "Это подтверждает проблему переобучения.\n",
        "\n",
        "ROC-AUC:\n",
        "\n",
        "Тренировочные данные: 1.0000\n",
        "\n",
        "Тестовые данные: 0.7804\n",
        "\n",
        "ROC-AUC на тренировочных данных также равен 1, что указывает на идеальное различение классов. Однако, на тестовых данных ROC-AUC значительно ниже, что свидетельствует о плохой способности модели обобщать на новые данные.\n",
        "\n",
        "График Precision-Recall Curve:\n",
        "\n",
        "График Precision-Recall (PR) показывает компромисс между точностью (precision) и полнотой (recall) для различных классов. На графике указаны значения площади под кривой (PR-кривая) для каждого класса:\n",
        "\n",
        "\n",
        "Class 3: area=0.00\n",
        "\n",
        "Class 4: area=0.13\n",
        "\n",
        "Class 5: area=0.85\n",
        "\n",
        "Class 6: area=0.71\n",
        "\n",
        "Class 7: area=0.70\n",
        "\n",
        "Class 8: area=0.06\n",
        "\n",
        "Площадь под кривой PR (PR-AUC) является мерой того, насколько хорошо модель может различать положительные и отрицательные примеры для каждого класса. Чем выше значение PR-AUC, тем лучше модель работает для данного класса.\n",
        "\n",
        "Class 5 имеет наибольшую площадь (0.85), что указывает на лучшую производительность для этого класса.\n",
        "\n",
        "Class 3 и Class 8 имеют наименьшие значения (0.00 и 0.06 соответственно), что говорит о том, что модель практически не справляется с этими классами.\n",
        "\n",
        "Вывод:\n",
        "\n",
        "Случайный Лес демонстрирует сильное переобучение, так как модель идеально подходит для тренировочных данных, но значительно хуже работает на тестовых данных. Это видно по низким значениям точности, F1 Score и ROC-AUC на тестовых данных.\n",
        "\n",
        "График Precision-Recall Curve показывает, что модель хорошо справляется с классом 5, но плохо с классами 3 и 8."
      ],
      "metadata": {
        "id": "k9HP_tmZhLuT"
      }
    }
  ]
}