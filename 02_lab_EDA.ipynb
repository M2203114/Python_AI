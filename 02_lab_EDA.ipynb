{
  "nbformat": 4,
  "nbformat_minor": 0,
  "metadata": {
    "colab": {
      "private_outputs": true,
      "provenance": [],
      "gpuType": "T4",
      "authorship_tag": "ABX9TyMMCkQp9eaga5Peh7KTS89L",
      "include_colab_link": true
    },
    "kernelspec": {
      "name": "python3",
      "display_name": "Python 3"
    },
    "language_info": {
      "name": "python"
    },
    "accelerator": "GPU"
  },
  "cells": [
    {
      "cell_type": "markdown",
      "metadata": {
        "id": "view-in-github",
        "colab_type": "text"
      },
      "source": [
        "<a href=\"https://colab.research.google.com/github/M2203114/Python_AI/blob/fall2024/02_lab_EDA.ipynb\" target=\"_parent\"><img src=\"https://colab.research.google.com/assets/colab-badge.svg\" alt=\"Open In Colab\"/></a>"
      ]
    },
    {
      "cell_type": "markdown",
      "source": [
        "# 1. Название датасета"
      ],
      "metadata": {
        "id": "VlE8_hZjD-h-"
      }
    },
    {
      "cell_type": "markdown",
      "source": [
        "Датасет называется \"winequality-red.csv\"."
      ],
      "metadata": {
        "id": "UCvrw8QBJJaM"
      }
    },
    {
      "cell_type": "markdown",
      "source": [
        "# 2. Постановка задачи"
      ],
      "metadata": {
        "id": "sm5YJ_seEFbF"
      }
    },
    {
      "cell_type": "markdown",
      "source": [
        "Датасет winequality-red.csv содержит информацию о характеристиках красного вина, таких как кислотность, содержание сахара, алкоголя и другие параметры. Целевой переменной является quality, которая представляет собой оценку качества вина по шкале от 0 до 10.\n",
        "\n",
        "\n",
        "__________________________________________________________________________________\n",
        "**Задача заключается в построении модели, которая будет предсказывать качество вина на основе его физико-химических свойств.**\n",
        "\n",
        "\n",
        "__________________________________________________________________________________\n",
        "**Целевая переменная quality является дискретной, так как она принимает значения от 0 до 10.**"
      ],
      "metadata": {
        "id": "aYRAegNnJZyU"
      }
    },
    {
      "cell_type": "markdown",
      "source": [
        "Переменные:\n",
        "\n",
        "fixed acidity (фиксированная кислотность)\n",
        "\n",
        "volatile acidity (летучая кислотность)\n",
        "\n",
        "citric acid (лимонная кислота)\n",
        "\n",
        "residual sugar (остаточный сахар)\n",
        "\n",
        "chlorides (хлориды)\n",
        "\n",
        "free sulfur dioxide (свободный диоксид серы)\n",
        "\n",
        "total sulfur dioxide (общий диоксид серы)\n",
        "\n",
        "density (плотность)\n",
        "\n",
        "pH (уровень pH)\n",
        "\n",
        "sulphates (сульфаты)\n",
        "\n",
        "alcohol (алкоголь)\n",
        "\n",
        "quality (качество) — целевая переменная"
      ],
      "metadata": {
        "id": "-kh6v68hJg8e"
      }
    },
    {
      "cell_type": "markdown",
      "source": [
        "# 3. Распределение целевой переменной"
      ],
      "metadata": {
        "id": "sH2d6azIKAV0"
      }
    },
    {
      "cell_type": "code",
      "source": [
        "import pandas as pd\n",
        "import matplotlib.pyplot as plt\n",
        "\n",
        "# Загрузка данных\n",
        "data = pd.read_csv('winequality-red.csv')\n",
        "\n",
        "# Гистограмма распределения целевой переменной\n",
        "plt.figure(figsize=(10, 6))\n",
        "plt.hist(data['quality'], bins=11, edgecolor='black')\n",
        "plt.title('Распределение качества вина')\n",
        "plt.xlabel('Качество')\n",
        "plt.ylabel('Частота')\n",
        "plt.show()\n",
        "\n",
        "# Количество уникальных значений целевой переменной\n",
        "unique_values = data['quality'].nunique()\n",
        "print(f\"Количество уникальных значений целевой переменной: {unique_values}\")"
      ],
      "metadata": {
        "id": "ScGMbHXtKE9R"
      },
      "execution_count": null,
      "outputs": []
    },
    {
      "cell_type": "markdown",
      "source": [
        "# 4. Основные статистики по переменным"
      ],
      "metadata": {
        "id": "MAGURHT7K6Uq"
      }
    },
    {
      "cell_type": "code",
      "source": [
        "# Основные статистики\n",
        "data.describe()"
      ],
      "metadata": {
        "id": "AwHwcJLxLAsq"
      },
      "execution_count": null,
      "outputs": []
    },
    {
      "cell_type": "markdown",
      "source": [
        "# 5. Основная информация по датасету"
      ],
      "metadata": {
        "id": "k_K_g6XvL-4K"
      }
    },
    {
      "cell_type": "code",
      "source": [
        "data.info()"
      ],
      "metadata": {
        "id": "yKcjZ67dMEAP"
      },
      "execution_count": null,
      "outputs": []
    },
    {
      "cell_type": "markdown",
      "source": [
        "# 6. Количество пропусков#\n",
        "\n"
      ],
      "metadata": {
        "id": "K64KdmCBMOKL"
      }
    },
    {
      "cell_type": "code",
      "source": [
        "a = data.isnull().sum()\n",
        "print(a)\n",
        "if(a.sum() == 0):\n",
        "    print(\"В датасете нет пропусков.\")\n"
      ],
      "metadata": {
        "id": "Xcc0Tr4QMTjs"
      },
      "execution_count": null,
      "outputs": []
    },
    {
      "cell_type": "markdown",
      "source": [
        "# 7. Гистограммы 5 любых признаков"
      ],
      "metadata": {
        "id": "eEEcKvfRNoKY"
      }
    },
    {
      "cell_type": "code",
      "source": [
        "features = ['fixed acidity', 'volatile acidity', 'citric acid', 'residual sugar', 'alcohol']\n",
        "\n",
        "for feature in features:\n",
        "    plt.figure(figsize=(10, 6))\n",
        "    plt.hist(data[feature], bins=30, edgecolor='black')\n",
        "    plt.title(f'Распределение {feature}')\n",
        "    plt.xlabel(feature)\n",
        "    plt.ylabel('Частота')\n",
        "    plt.show()"
      ],
      "metadata": {
        "id": "ylR1ZR12NrCL"
      },
      "execution_count": null,
      "outputs": []
    },
    {
      "cell_type": "markdown",
      "source": [
        "*   ***fixed acidity:*** Распределение смещено в сторону меньших значений.\n",
        "*   ***volatile acidity:*** Распределение также смещено в сторону меньших значений, но имеет более широкий диапазон.\n",
        "\n",
        "*   ***citric acid:*** Распределение имеет пик около нуля, что указывает на наличие множества вин без лимонной кислоты.\n",
        "*   ***residual sugar:*** Распределение смещено в сторону меньших значений, но имеет длинный хвост в сторону больших значений.\n",
        "\n",
        "*   ***alcohol:*** Распределение смещено в сторону меньших значений, но имеет более симметричный вид по сравнению с другими признаками.\n"
      ],
      "metadata": {
        "id": "KZi-FBLcObGu"
      }
    },
    {
      "cell_type": "markdown",
      "source": [
        "# 8. Графики зависимости переменных от целевой переменной"
      ],
      "metadata": {
        "id": "4zVwm69sOzG6"
      }
    },
    {
      "cell_type": "code",
      "source": [
        "for feature in features:\n",
        "    plt.figure(figsize=(10, 6))\n",
        "    plt.scatter(data[feature], data['quality'], alpha=0.5)\n",
        "    plt.title(f'Зависимость качества от {feature}')\n",
        "    plt.xlabel(feature)\n",
        "    plt.ylabel('Качество')\n",
        "    plt.show()"
      ],
      "metadata": {
        "id": "1CqY4N2LP9B7"
      },
      "execution_count": null,
      "outputs": []
    },
    {
      "cell_type": "markdown",
      "source": [
        "\n",
        "Выводы:\n",
        "* ***Fixed Acidity (Фиксированная кислотность):*** На графике видно, что нет четкой линейной зависимости между фиксированной кислотностью и качеством вина. Однако можно заметить, что вина с более высоким качеством (6-8) имеют более широкий диапазон значений фиксированной кислотности.\n",
        "\n",
        "* ***Volatile Acidity (Летучая кислотность): ***Здесь наблюдается обратная зависимость: чем ниже летучая кислотность, тем выше качество вина. Вина с качеством 5 и ниже имеют более высокие значения летучей кислотности.\n",
        "\n",
        "* ***Citric Acid (Лимонная кислота):*** Лимонная кислота, как и фиксированная кислотность, не показывает четкой линейной зависимости с качеством. Однако вина с более высоким качеством имеют более широкий диапазон значений лимонной кислоты.\n",
        "\n",
        "* ***Residual Sugar (Остаточный сахар):*** Зависимость между остаточным сахаром и качеством вина также не является линейной. Вина с более высоким качеством могут иметь как низкие, так и высокие значения остаточного сахара.\n",
        "\n",
        "* ***Alcohol (Алкоголь):*** Наиболее четкая зависимость наблюдается между содержанием алкоголя и качеством вина. Вина с более высоким содержанием алкоголя, как правило, имеют более высокое качество.\n",
        "\n",
        "Заключение:\n",
        "\n",
        "**Из всех рассмотренных переменных наиболее сильная зависимость наблюдается между содержанием алкоголя и летучей кислотностью. Переменные volatile acidity и alcohol могут быть использованы для прогнозирования качества вина, так как они показывают более четкую взаимосвязь с целевой переменной. Переменные fixed acidity, citric acid и residual sugar имеют слабую взаимосвязь с качеством вина и будут менее полезны для прогнозирования.**\n",
        "\n",
        "\n",
        "\n",
        "\n",
        "\n",
        "\n",
        "\n",
        "\n"
      ],
      "metadata": {
        "id": "W2HAec6wQceT"
      }
    },
    {
      "cell_type": "markdown",
      "source": [
        "# EXTRA Зависимость двух переменных одновременно от целевой переменной:"
      ],
      "metadata": {
        "id": "nk83uvE8Qr0y"
      }
    },
    {
      "cell_type": "code",
      "source": [
        "from mpl_toolkits.mplot3d import Axes3D\n",
        "\n",
        "fig = plt.figure(figsize=(12, 8))\n",
        "ax = fig.add_subplot(111, projection='3d')\n",
        "\n",
        "ax.scatter(data['volatile acidity'], data['alcohol'], data['quality'], c=data['quality'], cmap='viridis', s=50)\n",
        "ax.set_xlabel('Volatile Acidity')\n",
        "ax.set_ylabel('Alcohol')\n",
        "ax.set_zlabel('Quality')\n",
        "plt.title('Зависимость качества от Volatile Acidity и Alcohol')\n",
        "plt.show()"
      ],
      "metadata": {
        "id": "E4rOPZ_4SIUg"
      },
      "execution_count": null,
      "outputs": []
    },
    {
      "cell_type": "markdown",
      "source": [
        "#Зависимость качества от \"alcohol\":\n",
        "\n",
        "*   ***Высокий уровень алкоголя:*** Вина с высоким содержанием алкоголя (более 11%) чаще имеют более высокое качество (более светлые точки на графике).\n",
        "*   ***Средний уровень алкоголя:*** Вина со средним содержанием алкоголя (от 9% до 11%) демонстрируют разное качество, что также указывает на влияние других факторов.\n",
        "*   ***Низкий уровень алкоголя:*** Вина с низким содержанием алкоголя (менее 9%) обычно имеют более низкое качество (более темные точки на графике).\n",
        "\n",
        "\n",
        "\n",
        "\n",
        "\n",
        "\n",
        "\n"
      ],
      "metadata": {
        "id": "3WU5GleaSmsZ"
      }
    },
    {
      "cell_type": "markdown",
      "source": [
        "#Зависимость качества от \"volatile acidity\":\n",
        "\n",
        "*   Высокая летучая кислотность: Вина с высоким уровнем \"volatile acidity\" (более 0.6) обычно имеют более низкое качество (более темные точки на графике).\n",
        "*   Средняя летучая кислотность: Вина со средним уровнем \"volatile acidity\" (от 0.4 до 0.6) демонстрируют разное качество, что указывает на то, что другие факторы, такие как \"alcohol\", также играют важную роль.\n",
        "*   Низкая летучая кислотность: Вина с низким уровнем \"volatile acidity\" (менее 0.4) чаще имеют более высокое качество (более светлые точки на графике).\n",
        "\n",
        "\n",
        "\n",
        "\n",
        "\n",
        "\n",
        "\n",
        "\n"
      ],
      "metadata": {
        "id": "dfP4RihNTPum"
      }
    },
    {
      "cell_type": "markdown",
      "source": [
        "# Выводы:\n",
        "\n",
        "*   Низкая  летучая кислотность и высокий уровень алкоголя чаще всего связаны с более высоким качеством вина.\n",
        "*   Средние значения летучая кислотность и \"alcohol\" могут приводить к разному качеству, что указывает на необходимость учета других факторов для более точного предсказания качества.\n",
        "*  Высокая летучая кислотность и низкий уровень алкоголя чаще всего связаны с более низким качеством вина.\n",
        "\n",
        "\n",
        "\n",
        "\n",
        "\n",
        "\n",
        "\n"
      ],
      "metadata": {
        "id": "tXD2VWAzTitE"
      }
    }
  ]
}