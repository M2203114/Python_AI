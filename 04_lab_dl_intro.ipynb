{
  "nbformat": 4,
  "nbformat_minor": 0,
  "metadata": {
    "colab": {
      "provenance": [],
      "authorship_tag": "ABX9TyMXj8/lwrLZRB4aZDgGE4Zc",
      "include_colab_link": true
    },
    "kernelspec": {
      "name": "python3",
      "display_name": "Python 3"
    },
    "language_info": {
      "name": "python"
    }
  },
  "cells": [
    {
      "cell_type": "markdown",
      "metadata": {
        "id": "view-in-github",
        "colab_type": "text"
      },
      "source": [
        "<a href=\"https://colab.research.google.com/github/M2203114/Python_AI/blob/fall2024/04_lab_dl_intro.ipynb\" target=\"_parent\"><img src=\"https://colab.research.google.com/assets/colab-badge.svg\" alt=\"Open In Colab\"/></a>"
      ]
    },
    {
      "cell_type": "markdown",
      "source": [
        "# 1. Загрузка данных"
      ],
      "metadata": {
        "id": "0FMDHQo6xiHY"
      }
    },
    {
      "cell_type": "code",
      "execution_count": 8,
      "metadata": {
        "colab": {
          "base_uri": "https://localhost:8080/",
          "height": 238
        },
        "id": "I7J7nbGjnKd6",
        "outputId": "a5987380-0802-4203-f83d-56e599de7242"
      },
      "outputs": [
        {
          "output_type": "execute_result",
          "data": {
            "text/plain": [
              "   fixed acidity  volatile acidity  citric acid  residual sugar  chlorides  \\\n",
              "0            7.4              0.70         0.00             1.9      0.076   \n",
              "1            7.8              0.88         0.00             2.6      0.098   \n",
              "2            7.8              0.76         0.04             2.3      0.092   \n",
              "3           11.2              0.28         0.56             1.9      0.075   \n",
              "4            7.4              0.70         0.00             1.9      0.076   \n",
              "\n",
              "   free sulfur dioxide  total sulfur dioxide  density    pH  sulphates  \\\n",
              "0                 11.0                  34.0   0.9978  3.51       0.56   \n",
              "1                 25.0                  67.0   0.9968  3.20       0.68   \n",
              "2                 15.0                  54.0   0.9970  3.26       0.65   \n",
              "3                 17.0                  60.0   0.9980  3.16       0.58   \n",
              "4                 11.0                  34.0   0.9978  3.51       0.56   \n",
              "\n",
              "   alcohol  quality  \n",
              "0      9.4        5  \n",
              "1      9.8        5  \n",
              "2      9.8        5  \n",
              "3      9.8        6  \n",
              "4      9.4        5  "
            ],
            "text/html": [
              "\n",
              "  <div id=\"df-1689eb3b-fe74-4cf0-9f45-8bbc0df1a92f\" class=\"colab-df-container\">\n",
              "    <div>\n",
              "<style scoped>\n",
              "    .dataframe tbody tr th:only-of-type {\n",
              "        vertical-align: middle;\n",
              "    }\n",
              "\n",
              "    .dataframe tbody tr th {\n",
              "        vertical-align: top;\n",
              "    }\n",
              "\n",
              "    .dataframe thead th {\n",
              "        text-align: right;\n",
              "    }\n",
              "</style>\n",
              "<table border=\"1\" class=\"dataframe\">\n",
              "  <thead>\n",
              "    <tr style=\"text-align: right;\">\n",
              "      <th></th>\n",
              "      <th>fixed acidity</th>\n",
              "      <th>volatile acidity</th>\n",
              "      <th>citric acid</th>\n",
              "      <th>residual sugar</th>\n",
              "      <th>chlorides</th>\n",
              "      <th>free sulfur dioxide</th>\n",
              "      <th>total sulfur dioxide</th>\n",
              "      <th>density</th>\n",
              "      <th>pH</th>\n",
              "      <th>sulphates</th>\n",
              "      <th>alcohol</th>\n",
              "      <th>quality</th>\n",
              "    </tr>\n",
              "  </thead>\n",
              "  <tbody>\n",
              "    <tr>\n",
              "      <th>0</th>\n",
              "      <td>7.4</td>\n",
              "      <td>0.70</td>\n",
              "      <td>0.00</td>\n",
              "      <td>1.9</td>\n",
              "      <td>0.076</td>\n",
              "      <td>11.0</td>\n",
              "      <td>34.0</td>\n",
              "      <td>0.9978</td>\n",
              "      <td>3.51</td>\n",
              "      <td>0.56</td>\n",
              "      <td>9.4</td>\n",
              "      <td>5</td>\n",
              "    </tr>\n",
              "    <tr>\n",
              "      <th>1</th>\n",
              "      <td>7.8</td>\n",
              "      <td>0.88</td>\n",
              "      <td>0.00</td>\n",
              "      <td>2.6</td>\n",
              "      <td>0.098</td>\n",
              "      <td>25.0</td>\n",
              "      <td>67.0</td>\n",
              "      <td>0.9968</td>\n",
              "      <td>3.20</td>\n",
              "      <td>0.68</td>\n",
              "      <td>9.8</td>\n",
              "      <td>5</td>\n",
              "    </tr>\n",
              "    <tr>\n",
              "      <th>2</th>\n",
              "      <td>7.8</td>\n",
              "      <td>0.76</td>\n",
              "      <td>0.04</td>\n",
              "      <td>2.3</td>\n",
              "      <td>0.092</td>\n",
              "      <td>15.0</td>\n",
              "      <td>54.0</td>\n",
              "      <td>0.9970</td>\n",
              "      <td>3.26</td>\n",
              "      <td>0.65</td>\n",
              "      <td>9.8</td>\n",
              "      <td>5</td>\n",
              "    </tr>\n",
              "    <tr>\n",
              "      <th>3</th>\n",
              "      <td>11.2</td>\n",
              "      <td>0.28</td>\n",
              "      <td>0.56</td>\n",
              "      <td>1.9</td>\n",
              "      <td>0.075</td>\n",
              "      <td>17.0</td>\n",
              "      <td>60.0</td>\n",
              "      <td>0.9980</td>\n",
              "      <td>3.16</td>\n",
              "      <td>0.58</td>\n",
              "      <td>9.8</td>\n",
              "      <td>6</td>\n",
              "    </tr>\n",
              "    <tr>\n",
              "      <th>4</th>\n",
              "      <td>7.4</td>\n",
              "      <td>0.70</td>\n",
              "      <td>0.00</td>\n",
              "      <td>1.9</td>\n",
              "      <td>0.076</td>\n",
              "      <td>11.0</td>\n",
              "      <td>34.0</td>\n",
              "      <td>0.9978</td>\n",
              "      <td>3.51</td>\n",
              "      <td>0.56</td>\n",
              "      <td>9.4</td>\n",
              "      <td>5</td>\n",
              "    </tr>\n",
              "  </tbody>\n",
              "</table>\n",
              "</div>\n",
              "    <div class=\"colab-df-buttons\">\n",
              "\n",
              "  <div class=\"colab-df-container\">\n",
              "    <button class=\"colab-df-convert\" onclick=\"convertToInteractive('df-1689eb3b-fe74-4cf0-9f45-8bbc0df1a92f')\"\n",
              "            title=\"Convert this dataframe to an interactive table.\"\n",
              "            style=\"display:none;\">\n",
              "\n",
              "  <svg xmlns=\"http://www.w3.org/2000/svg\" height=\"24px\" viewBox=\"0 -960 960 960\">\n",
              "    <path d=\"M120-120v-720h720v720H120Zm60-500h600v-160H180v160Zm220 220h160v-160H400v160Zm0 220h160v-160H400v160ZM180-400h160v-160H180v160Zm440 0h160v-160H620v160ZM180-180h160v-160H180v160Zm440 0h160v-160H620v160Z\"/>\n",
              "  </svg>\n",
              "    </button>\n",
              "\n",
              "  <style>\n",
              "    .colab-df-container {\n",
              "      display:flex;\n",
              "      gap: 12px;\n",
              "    }\n",
              "\n",
              "    .colab-df-convert {\n",
              "      background-color: #E8F0FE;\n",
              "      border: none;\n",
              "      border-radius: 50%;\n",
              "      cursor: pointer;\n",
              "      display: none;\n",
              "      fill: #1967D2;\n",
              "      height: 32px;\n",
              "      padding: 0 0 0 0;\n",
              "      width: 32px;\n",
              "    }\n",
              "\n",
              "    .colab-df-convert:hover {\n",
              "      background-color: #E2EBFA;\n",
              "      box-shadow: 0px 1px 2px rgba(60, 64, 67, 0.3), 0px 1px 3px 1px rgba(60, 64, 67, 0.15);\n",
              "      fill: #174EA6;\n",
              "    }\n",
              "\n",
              "    .colab-df-buttons div {\n",
              "      margin-bottom: 4px;\n",
              "    }\n",
              "\n",
              "    [theme=dark] .colab-df-convert {\n",
              "      background-color: #3B4455;\n",
              "      fill: #D2E3FC;\n",
              "    }\n",
              "\n",
              "    [theme=dark] .colab-df-convert:hover {\n",
              "      background-color: #434B5C;\n",
              "      box-shadow: 0px 1px 3px 1px rgba(0, 0, 0, 0.15);\n",
              "      filter: drop-shadow(0px 1px 2px rgba(0, 0, 0, 0.3));\n",
              "      fill: #FFFFFF;\n",
              "    }\n",
              "  </style>\n",
              "\n",
              "    <script>\n",
              "      const buttonEl =\n",
              "        document.querySelector('#df-1689eb3b-fe74-4cf0-9f45-8bbc0df1a92f button.colab-df-convert');\n",
              "      buttonEl.style.display =\n",
              "        google.colab.kernel.accessAllowed ? 'block' : 'none';\n",
              "\n",
              "      async function convertToInteractive(key) {\n",
              "        const element = document.querySelector('#df-1689eb3b-fe74-4cf0-9f45-8bbc0df1a92f');\n",
              "        const dataTable =\n",
              "          await google.colab.kernel.invokeFunction('convertToInteractive',\n",
              "                                                    [key], {});\n",
              "        if (!dataTable) return;\n",
              "\n",
              "        const docLinkHtml = 'Like what you see? Visit the ' +\n",
              "          '<a target=\"_blank\" href=https://colab.research.google.com/notebooks/data_table.ipynb>data table notebook</a>'\n",
              "          + ' to learn more about interactive tables.';\n",
              "        element.innerHTML = '';\n",
              "        dataTable['output_type'] = 'display_data';\n",
              "        await google.colab.output.renderOutput(dataTable, element);\n",
              "        const docLink = document.createElement('div');\n",
              "        docLink.innerHTML = docLinkHtml;\n",
              "        element.appendChild(docLink);\n",
              "      }\n",
              "    </script>\n",
              "  </div>\n",
              "\n",
              "\n",
              "<div id=\"df-c9b91968-e5a7-4623-9e56-e443de024526\">\n",
              "  <button class=\"colab-df-quickchart\" onclick=\"quickchart('df-c9b91968-e5a7-4623-9e56-e443de024526')\"\n",
              "            title=\"Suggest charts\"\n",
              "            style=\"display:none;\">\n",
              "\n",
              "<svg xmlns=\"http://www.w3.org/2000/svg\" height=\"24px\"viewBox=\"0 0 24 24\"\n",
              "     width=\"24px\">\n",
              "    <g>\n",
              "        <path d=\"M19 3H5c-1.1 0-2 .9-2 2v14c0 1.1.9 2 2 2h14c1.1 0 2-.9 2-2V5c0-1.1-.9-2-2-2zM9 17H7v-7h2v7zm4 0h-2V7h2v10zm4 0h-2v-4h2v4z\"/>\n",
              "    </g>\n",
              "</svg>\n",
              "  </button>\n",
              "\n",
              "<style>\n",
              "  .colab-df-quickchart {\n",
              "      --bg-color: #E8F0FE;\n",
              "      --fill-color: #1967D2;\n",
              "      --hover-bg-color: #E2EBFA;\n",
              "      --hover-fill-color: #174EA6;\n",
              "      --disabled-fill-color: #AAA;\n",
              "      --disabled-bg-color: #DDD;\n",
              "  }\n",
              "\n",
              "  [theme=dark] .colab-df-quickchart {\n",
              "      --bg-color: #3B4455;\n",
              "      --fill-color: #D2E3FC;\n",
              "      --hover-bg-color: #434B5C;\n",
              "      --hover-fill-color: #FFFFFF;\n",
              "      --disabled-bg-color: #3B4455;\n",
              "      --disabled-fill-color: #666;\n",
              "  }\n",
              "\n",
              "  .colab-df-quickchart {\n",
              "    background-color: var(--bg-color);\n",
              "    border: none;\n",
              "    border-radius: 50%;\n",
              "    cursor: pointer;\n",
              "    display: none;\n",
              "    fill: var(--fill-color);\n",
              "    height: 32px;\n",
              "    padding: 0;\n",
              "    width: 32px;\n",
              "  }\n",
              "\n",
              "  .colab-df-quickchart:hover {\n",
              "    background-color: var(--hover-bg-color);\n",
              "    box-shadow: 0 1px 2px rgba(60, 64, 67, 0.3), 0 1px 3px 1px rgba(60, 64, 67, 0.15);\n",
              "    fill: var(--button-hover-fill-color);\n",
              "  }\n",
              "\n",
              "  .colab-df-quickchart-complete:disabled,\n",
              "  .colab-df-quickchart-complete:disabled:hover {\n",
              "    background-color: var(--disabled-bg-color);\n",
              "    fill: var(--disabled-fill-color);\n",
              "    box-shadow: none;\n",
              "  }\n",
              "\n",
              "  .colab-df-spinner {\n",
              "    border: 2px solid var(--fill-color);\n",
              "    border-color: transparent;\n",
              "    border-bottom-color: var(--fill-color);\n",
              "    animation:\n",
              "      spin 1s steps(1) infinite;\n",
              "  }\n",
              "\n",
              "  @keyframes spin {\n",
              "    0% {\n",
              "      border-color: transparent;\n",
              "      border-bottom-color: var(--fill-color);\n",
              "      border-left-color: var(--fill-color);\n",
              "    }\n",
              "    20% {\n",
              "      border-color: transparent;\n",
              "      border-left-color: var(--fill-color);\n",
              "      border-top-color: var(--fill-color);\n",
              "    }\n",
              "    30% {\n",
              "      border-color: transparent;\n",
              "      border-left-color: var(--fill-color);\n",
              "      border-top-color: var(--fill-color);\n",
              "      border-right-color: var(--fill-color);\n",
              "    }\n",
              "    40% {\n",
              "      border-color: transparent;\n",
              "      border-right-color: var(--fill-color);\n",
              "      border-top-color: var(--fill-color);\n",
              "    }\n",
              "    60% {\n",
              "      border-color: transparent;\n",
              "      border-right-color: var(--fill-color);\n",
              "    }\n",
              "    80% {\n",
              "      border-color: transparent;\n",
              "      border-right-color: var(--fill-color);\n",
              "      border-bottom-color: var(--fill-color);\n",
              "    }\n",
              "    90% {\n",
              "      border-color: transparent;\n",
              "      border-bottom-color: var(--fill-color);\n",
              "    }\n",
              "  }\n",
              "</style>\n",
              "\n",
              "  <script>\n",
              "    async function quickchart(key) {\n",
              "      const quickchartButtonEl =\n",
              "        document.querySelector('#' + key + ' button');\n",
              "      quickchartButtonEl.disabled = true;  // To prevent multiple clicks.\n",
              "      quickchartButtonEl.classList.add('colab-df-spinner');\n",
              "      try {\n",
              "        const charts = await google.colab.kernel.invokeFunction(\n",
              "            'suggestCharts', [key], {});\n",
              "      } catch (error) {\n",
              "        console.error('Error during call to suggestCharts:', error);\n",
              "      }\n",
              "      quickchartButtonEl.classList.remove('colab-df-spinner');\n",
              "      quickchartButtonEl.classList.add('colab-df-quickchart-complete');\n",
              "    }\n",
              "    (() => {\n",
              "      let quickchartButtonEl =\n",
              "        document.querySelector('#df-c9b91968-e5a7-4623-9e56-e443de024526 button');\n",
              "      quickchartButtonEl.style.display =\n",
              "        google.colab.kernel.accessAllowed ? 'block' : 'none';\n",
              "    })();\n",
              "  </script>\n",
              "</div>\n",
              "    </div>\n",
              "  </div>\n"
            ],
            "application/vnd.google.colaboratory.intrinsic+json": {
              "type": "dataframe",
              "variable_name": "data",
              "summary": "{\n  \"name\": \"data\",\n  \"rows\": 1599,\n  \"fields\": [\n    {\n      \"column\": \"fixed acidity\",\n      \"properties\": {\n        \"dtype\": \"number\",\n        \"std\": 1.7410963181277006,\n        \"min\": 4.6,\n        \"max\": 15.9,\n        \"num_unique_values\": 96,\n        \"samples\": [\n          5.3,\n          12.7,\n          12.6\n        ],\n        \"semantic_type\": \"\",\n        \"description\": \"\"\n      }\n    },\n    {\n      \"column\": \"volatile acidity\",\n      \"properties\": {\n        \"dtype\": \"number\",\n        \"std\": 0.17905970415353498,\n        \"min\": 0.12,\n        \"max\": 1.58,\n        \"num_unique_values\": 143,\n        \"samples\": [\n          1.025,\n          0.4,\n          0.87\n        ],\n        \"semantic_type\": \"\",\n        \"description\": \"\"\n      }\n    },\n    {\n      \"column\": \"citric acid\",\n      \"properties\": {\n        \"dtype\": \"number\",\n        \"std\": 0.19480113740531785,\n        \"min\": 0.0,\n        \"max\": 1.0,\n        \"num_unique_values\": 80,\n        \"samples\": [\n          0.37,\n          0.0,\n          0.09\n        ],\n        \"semantic_type\": \"\",\n        \"description\": \"\"\n      }\n    },\n    {\n      \"column\": \"residual sugar\",\n      \"properties\": {\n        \"dtype\": \"number\",\n        \"std\": 1.4099280595072805,\n        \"min\": 0.9,\n        \"max\": 15.5,\n        \"num_unique_values\": 91,\n        \"samples\": [\n          11.0,\n          3.0,\n          15.5\n        ],\n        \"semantic_type\": \"\",\n        \"description\": \"\"\n      }\n    },\n    {\n      \"column\": \"chlorides\",\n      \"properties\": {\n        \"dtype\": \"number\",\n        \"std\": 0.047065302010090154,\n        \"min\": 0.012,\n        \"max\": 0.611,\n        \"num_unique_values\": 153,\n        \"samples\": [\n          0.096,\n          0.3429999999999999,\n          0.159\n        ],\n        \"semantic_type\": \"\",\n        \"description\": \"\"\n      }\n    },\n    {\n      \"column\": \"free sulfur dioxide\",\n      \"properties\": {\n        \"dtype\": \"number\",\n        \"std\": 10.46015696980973,\n        \"min\": 1.0,\n        \"max\": 72.0,\n        \"num_unique_values\": 60,\n        \"samples\": [\n          11.0,\n          9.0,\n          32.0\n        ],\n        \"semantic_type\": \"\",\n        \"description\": \"\"\n      }\n    },\n    {\n      \"column\": \"total sulfur dioxide\",\n      \"properties\": {\n        \"dtype\": \"number\",\n        \"std\": 32.89532447829901,\n        \"min\": 6.0,\n        \"max\": 289.0,\n        \"num_unique_values\": 144,\n        \"samples\": [\n          68.0,\n          35.0,\n          101.0\n        ],\n        \"semantic_type\": \"\",\n        \"description\": \"\"\n      }\n    },\n    {\n      \"column\": \"density\",\n      \"properties\": {\n        \"dtype\": \"number\",\n        \"std\": 0.0018873339538425559,\n        \"min\": 0.99007,\n        \"max\": 1.00369,\n        \"num_unique_values\": 436,\n        \"samples\": [\n          0.99974,\n          1.0001,\n          0.99471\n        ],\n        \"semantic_type\": \"\",\n        \"description\": \"\"\n      }\n    },\n    {\n      \"column\": \"pH\",\n      \"properties\": {\n        \"dtype\": \"number\",\n        \"std\": 0.15438646490354266,\n        \"min\": 2.74,\n        \"max\": 4.01,\n        \"num_unique_values\": 89,\n        \"samples\": [\n          3.07,\n          3.0,\n          3.15\n        ],\n        \"semantic_type\": \"\",\n        \"description\": \"\"\n      }\n    },\n    {\n      \"column\": \"sulphates\",\n      \"properties\": {\n        \"dtype\": \"number\",\n        \"std\": 0.16950697959010977,\n        \"min\": 0.33,\n        \"max\": 2.0,\n        \"num_unique_values\": 96,\n        \"samples\": [\n          1.07,\n          1.04,\n          1.18\n        ],\n        \"semantic_type\": \"\",\n        \"description\": \"\"\n      }\n    },\n    {\n      \"column\": \"alcohol\",\n      \"properties\": {\n        \"dtype\": \"number\",\n        \"std\": 1.0656675818473926,\n        \"min\": 8.4,\n        \"max\": 14.9,\n        \"num_unique_values\": 65,\n        \"samples\": [\n          8.5,\n          9.95,\n          9.4\n        ],\n        \"semantic_type\": \"\",\n        \"description\": \"\"\n      }\n    },\n    {\n      \"column\": \"quality\",\n      \"properties\": {\n        \"dtype\": \"number\",\n        \"std\": 0,\n        \"min\": 3,\n        \"max\": 8,\n        \"num_unique_values\": 6,\n        \"samples\": [\n          5,\n          6,\n          3\n        ],\n        \"semantic_type\": \"\",\n        \"description\": \"\"\n      }\n    }\n  ]\n}"
            }
          },
          "metadata": {},
          "execution_count": 8
        }
      ],
      "source": [
        "import pandas as pd\n",
        "\n",
        "# Загрузка данных\n",
        "data = pd.read_csv('winequality-red.csv')\n",
        "\n",
        "# Просмотр первых строк данных\n",
        "data.head()"
      ]
    },
    {
      "cell_type": "markdown",
      "source": [
        "# 2. Определение задачи"
      ],
      "metadata": {
        "id": "8dWu7Uskxpaw"
      }
    },
    {
      "cell_type": "markdown",
      "source": [
        "Как мы уже определили, это задача многоклассовой классификации, так как столбец quality содержит числовые значения, которые мы будем предсказывать."
      ],
      "metadata": {
        "id": "6qfD9TpCxs64"
      }
    },
    {
      "cell_type": "markdown",
      "source": [
        "# 3. Предобработка данных\n",
        "\n"
      ],
      "metadata": {
        "id": "-PJfdfVux1Ow"
      }
    },
    {
      "cell_type": "markdown",
      "source": [
        "3.1 Разделение выборки на train и test"
      ],
      "metadata": {
        "id": "w2QFCTcsx6TA"
      }
    },
    {
      "cell_type": "code",
      "source": [
        "from sklearn.model_selection import train_test_split\n",
        "\n",
        "# Разделение данных на признаки и целевую переменную\n",
        "X = data.drop('quality', axis=1)\n",
        "y = data['quality']\n",
        "\n",
        "# Разделение на тренировочную и тестовую выборки\n",
        "X_train, X_test, y_train, y_test = train_test_split(X, y, test_size=0.2, random_state=42)"
      ],
      "metadata": {
        "id": "3GXwwgoAqIh8"
      },
      "execution_count": 2,
      "outputs": []
    },
    {
      "cell_type": "markdown",
      "source": [
        "3.2 Проверка и заполнение пропусков"
      ],
      "metadata": {
        "id": "kLvyhVHox932"
      }
    },
    {
      "cell_type": "code",
      "source": [
        "print(X_train.isnull().sum())\n",
        "print(X_test.isnull().sum())"
      ],
      "metadata": {
        "colab": {
          "base_uri": "https://localhost:8080/"
        },
        "id": "fw8jCq0Hx-cA",
        "outputId": "525e7810-a56d-4e2b-f454-66053ffd3cf7"
      },
      "execution_count": 10,
      "outputs": [
        {
          "output_type": "stream",
          "name": "stdout",
          "text": [
            "fixed acidity           0\n",
            "volatile acidity        0\n",
            "citric acid             0\n",
            "residual sugar          0\n",
            "chlorides               0\n",
            "free sulfur dioxide     0\n",
            "total sulfur dioxide    0\n",
            "density                 0\n",
            "pH                      0\n",
            "sulphates               0\n",
            "alcohol                 0\n",
            "dtype: int64\n",
            "fixed acidity           0\n",
            "volatile acidity        0\n",
            "citric acid             0\n",
            "residual sugar          0\n",
            "chlorides               0\n",
            "free sulfur dioxide     0\n",
            "total sulfur dioxide    0\n",
            "density                 0\n",
            "pH                      0\n",
            "sulphates               0\n",
            "alcohol                 0\n",
            "dtype: int64\n"
          ]
        }
      ]
    },
    {
      "cell_type": "markdown",
      "source": [
        "3.3 Нормирование числовых переменных"
      ],
      "metadata": {
        "id": "uW1v4yn7yCCj"
      }
    },
    {
      "cell_type": "code",
      "source": [
        "from sklearn.preprocessing import StandardScaler\n",
        "\n",
        "# Инициализация StandardScaler\n",
        "scaler = StandardScaler()\n",
        "\n",
        "# Нормирование данных\n",
        "X_train_scaled = scaler.fit_transform(X_train)\n",
        "X_test_scaled = scaler.transform(X_test)"
      ],
      "metadata": {
        "id": "51Oi3_GRqON4"
      },
      "execution_count": 3,
      "outputs": []
    },
    {
      "cell_type": "markdown",
      "source": [
        "3.4 Кодирование категориальных признаков\n",
        "\n",
        "В данном датасете нет категориальных признаков, поэтому этот шаг можно пропустить.\n",
        "\n"
      ],
      "metadata": {
        "id": "0vhK0fXxqqJr"
      }
    },
    {
      "cell_type": "markdown",
      "source": [
        "# 4. Оформление данных в виде класса Dataset и использование Dataloader"
      ],
      "metadata": {
        "id": "7ELt9NO6yJUu"
      }
    },
    {
      "cell_type": "code",
      "source": [
        "import torch\n",
        "from torch.utils.data import Dataset, DataLoader\n",
        "\n",
        "class WineDataset(Dataset):\n",
        "    def __init__(self, X, y):\n",
        "        self.X = torch.tensor(X, dtype=torch.float32)\n",
        "        self.y = torch.tensor(y.values, dtype=torch.float32).view(-1, 1)\n",
        "\n",
        "    def __len__(self):\n",
        "        return len(self.X)\n",
        "\n",
        "    def __getitem__(self, idx):\n",
        "        return self.X[idx], self.y[idx]\n",
        "\n",
        "# Создание Dataset и Dataloader\n",
        "train_dataset = WineDataset(X_train_scaled, y_train)\n",
        "test_dataset = WineDataset(X_test_scaled, y_test)\n",
        "\n",
        "train_loader = DataLoader(train_dataset, batch_size=32, shuffle=True)\n",
        "test_loader = DataLoader(test_dataset, batch_size=32, shuffle=False)"
      ],
      "metadata": {
        "id": "sATtldaVqUiY"
      },
      "execution_count": 11,
      "outputs": []
    },
    {
      "cell_type": "markdown",
      "source": [
        "# 5. Обучение моделей\n",
        "\n"
      ],
      "metadata": {
        "id": "Gs5McTBprKVo"
      }
    },
    {
      "cell_type": "markdown",
      "source": [
        "5.1. Однослойная нейросеть с оптимизатором SGD"
      ],
      "metadata": {
        "id": "E-RfzIP7rF4h"
      }
    },
    {
      "cell_type": "code",
      "source": [
        "import torch.nn as nn\n",
        "import torch.optim as optim\n",
        "\n",
        "# Определение модели\n",
        "class SimpleNet(nn.Module):\n",
        "    def __init__(self, input_size):\n",
        "        super(SimpleNet, self).__init__()\n",
        "        self.fc = nn.Linear(input_size, 1)\n",
        "\n",
        "    def forward(self, x):\n",
        "        return self.fc(x)\n",
        "\n",
        "# Инициализация модели, функции потерь и оптимизатора\n",
        "model_simple = SimpleNet(X_train_scaled.shape[1])\n",
        "criterion = nn.MSELoss()\n",
        "optimizer = optim.SGD(model_simple.parameters(), lr=0.01)\n",
        "\n",
        "# Обучение модели\n",
        "num_epochs = 50\n",
        "train_losses = []\n",
        "test_losses = []\n",
        "\n",
        "for epoch in range(num_epochs):\n",
        "    model_simple.train()\n",
        "    train_loss = 0\n",
        "    for X_batch, y_batch in train_loader:\n",
        "        optimizer.zero_grad()\n",
        "        outputs = model_simple(X_batch)\n",
        "        loss = criterion(outputs, y_batch)\n",
        "        loss.backward()\n",
        "        optimizer.step()\n",
        "        train_loss += loss.item()\n",
        "    train_losses.append(train_loss / len(train_loader))\n",
        "\n",
        "    model_simple.eval()\n",
        "    test_loss = 0\n",
        "    with torch.no_grad():\n",
        "        for X_batch, y_batch in test_loader:\n",
        "            outputs = model_simple(X_batch)\n",
        "            loss = criterion(outputs, y_batch)\n",
        "            test_loss += loss.item()\n",
        "    test_losses.append(test_loss / len(test_loader))\n",
        "\n",
        "    print(f'Epoch {epoch+1}/{num_epochs}, Train Loss: {train_losses[-1]:.4f}, Test Loss: {test_losses[-1]:.4f}')"
      ],
      "metadata": {
        "colab": {
          "base_uri": "https://localhost:8080/"
        },
        "id": "QQ9mhaSTrQSZ",
        "outputId": "59d2fea1-03ea-49ce-b25f-2258a527a6e3"
      },
      "execution_count": 12,
      "outputs": [
        {
          "output_type": "stream",
          "name": "stdout",
          "text": [
            "Epoch 1/50, Train Loss: 17.7106, Test Loss: 7.1906\n",
            "Epoch 2/50, Train Loss: 3.7812, Test Loss: 1.7738\n",
            "Epoch 3/50, Train Loss: 1.0872, Test Loss: 0.6893\n",
            "Epoch 4/50, Train Loss: 0.5610, Test Loss: 0.4628\n",
            "Epoch 5/50, Train Loss: 0.4580, Test Loss: 0.4120\n",
            "Epoch 6/50, Train Loss: 0.4354, Test Loss: 0.3971\n",
            "Epoch 7/50, Train Loss: 0.4324, Test Loss: 0.3934\n",
            "Epoch 8/50, Train Loss: 0.4297, Test Loss: 0.3921\n",
            "Epoch 9/50, Train Loss: 0.4300, Test Loss: 0.3926\n",
            "Epoch 10/50, Train Loss: 0.4282, Test Loss: 0.3906\n",
            "Epoch 11/50, Train Loss: 0.4288, Test Loss: 0.3906\n",
            "Epoch 12/50, Train Loss: 0.4282, Test Loss: 0.3904\n",
            "Epoch 13/50, Train Loss: 0.4278, Test Loss: 0.3902\n",
            "Epoch 14/50, Train Loss: 0.4280, Test Loss: 0.3907\n",
            "Epoch 15/50, Train Loss: 0.4291, Test Loss: 0.3900\n",
            "Epoch 16/50, Train Loss: 0.4287, Test Loss: 0.3905\n",
            "Epoch 17/50, Train Loss: 0.4278, Test Loss: 0.3913\n",
            "Epoch 18/50, Train Loss: 0.4281, Test Loss: 0.3895\n",
            "Epoch 19/50, Train Loss: 0.4279, Test Loss: 0.3895\n",
            "Epoch 20/50, Train Loss: 0.4285, Test Loss: 0.3908\n",
            "Epoch 21/50, Train Loss: 0.4276, Test Loss: 0.3900\n",
            "Epoch 22/50, Train Loss: 0.4282, Test Loss: 0.3913\n",
            "Epoch 23/50, Train Loss: 0.4276, Test Loss: 0.3924\n",
            "Epoch 24/50, Train Loss: 0.4279, Test Loss: 0.3919\n",
            "Epoch 25/50, Train Loss: 0.4278, Test Loss: 0.3893\n",
            "Epoch 26/50, Train Loss: 0.4279, Test Loss: 0.3907\n",
            "Epoch 27/50, Train Loss: 0.4281, Test Loss: 0.3892\n",
            "Epoch 28/50, Train Loss: 0.4272, Test Loss: 0.3903\n",
            "Epoch 29/50, Train Loss: 0.4283, Test Loss: 0.3892\n",
            "Epoch 30/50, Train Loss: 0.4282, Test Loss: 0.3899\n",
            "Epoch 31/50, Train Loss: 0.4279, Test Loss: 0.3907\n",
            "Epoch 32/50, Train Loss: 0.4281, Test Loss: 0.3893\n",
            "Epoch 33/50, Train Loss: 0.4279, Test Loss: 0.3895\n",
            "Epoch 34/50, Train Loss: 0.4273, Test Loss: 0.3903\n",
            "Epoch 35/50, Train Loss: 0.4272, Test Loss: 0.3926\n",
            "Epoch 36/50, Train Loss: 0.4279, Test Loss: 0.3898\n",
            "Epoch 37/50, Train Loss: 0.4274, Test Loss: 0.3898\n",
            "Epoch 38/50, Train Loss: 0.4277, Test Loss: 0.3914\n",
            "Epoch 39/50, Train Loss: 0.4278, Test Loss: 0.3903\n",
            "Epoch 40/50, Train Loss: 0.4279, Test Loss: 0.3933\n",
            "Epoch 41/50, Train Loss: 0.4271, Test Loss: 0.3899\n",
            "Epoch 42/50, Train Loss: 0.4274, Test Loss: 0.3913\n",
            "Epoch 43/50, Train Loss: 0.4274, Test Loss: 0.3916\n",
            "Epoch 44/50, Train Loss: 0.4274, Test Loss: 0.3899\n",
            "Epoch 45/50, Train Loss: 0.4269, Test Loss: 0.3892\n",
            "Epoch 46/50, Train Loss: 0.4277, Test Loss: 0.3916\n",
            "Epoch 47/50, Train Loss: 0.4273, Test Loss: 0.3916\n",
            "Epoch 48/50, Train Loss: 0.4275, Test Loss: 0.3905\n",
            "Epoch 49/50, Train Loss: 0.4272, Test Loss: 0.3894\n",
            "Epoch 50/50, Train Loss: 0.4277, Test Loss: 0.3904\n"
          ]
        }
      ]
    },
    {
      "cell_type": "markdown",
      "source": [
        "**5.2. Нейросеть с одним скрытым слоем с оптимизатором Adam**"
      ],
      "metadata": {
        "id": "uZUnNUuBzIZH"
      }
    },
    {
      "cell_type": "code",
      "source": [
        "# Определение модели\n",
        "class HiddenLayerNet(nn.Module):\n",
        "    def __init__(self, input_size, hidden_size):\n",
        "        super(HiddenLayerNet, self).__init__()\n",
        "        self.fc1 = nn.Linear(input_size, hidden_size)\n",
        "        self.fc2 = nn.Linear(hidden_size, 1)\n",
        "\n",
        "    def forward(self, x):\n",
        "        x = torch.relu(self.fc1(x))\n",
        "        return self.fc2(x)\n",
        "\n",
        "# Инициализация модели, функции потерь и оптимизатора\n",
        "model_hidden = HiddenLayerNet(X_train_scaled.shape[1], 64)\n",
        "criterion = nn.MSELoss()\n",
        "optimizer = optim.Adam(model_hidden.parameters(), lr=0.001)\n",
        "\n",
        "# Обучение модели\n",
        "train_losses_hidden = []\n",
        "test_losses_hidden = []\n",
        "\n",
        "for epoch in range(num_epochs):\n",
        "    model_hidden.train()\n",
        "    train_loss = 0\n",
        "    for X_batch, y_batch in train_loader:\n",
        "        optimizer.zero_grad()\n",
        "        outputs = model_hidden(X_batch)\n",
        "        loss = criterion(outputs, y_batch)\n",
        "        loss.backward()\n",
        "        optimizer.step()\n",
        "        train_loss += loss.item()\n",
        "    train_losses_hidden.append(train_loss / len(train_loader))\n",
        "\n",
        "    model_hidden.eval()\n",
        "    test_loss = 0\n",
        "    with torch.no_grad():\n",
        "        for X_batch, y_batch in test_loader:\n",
        "            outputs = model_hidden(X_batch)\n",
        "            loss = criterion(outputs, y_batch)\n",
        "            test_loss += loss.item()\n",
        "    test_losses_hidden.append(test_loss / len(test_loader))\n",
        "\n",
        "    print(f'Epoch {epoch+1}/{num_epochs}, Train Loss: {train_losses_hidden[-1]:.4f}, Test Loss: {test_losses_hidden[-1]:.4f}')"
      ],
      "metadata": {
        "colab": {
          "base_uri": "https://localhost:8080/"
        },
        "id": "X4M5y2WzzJnK",
        "outputId": "6cf7fff5-9aef-48e4-ff79-ebee463054c1"
      },
      "execution_count": 13,
      "outputs": [
        {
          "output_type": "stream",
          "name": "stdout",
          "text": [
            "Epoch 1/50, Train Loss: 24.9744, Test Loss: 21.0131\n",
            "Epoch 2/50, Train Loss: 16.8066, Test Loss: 12.7238\n",
            "Epoch 3/50, Train Loss: 9.4945, Test Loss: 6.3720\n",
            "Epoch 4/50, Train Loss: 4.8778, Test Loss: 3.4964\n",
            "Epoch 5/50, Train Loss: 3.0721, Test Loss: 2.6449\n",
            "Epoch 6/50, Train Loss: 2.4644, Test Loss: 2.2950\n",
            "Epoch 7/50, Train Loss: 2.1551, Test Loss: 2.0542\n",
            "Epoch 8/50, Train Loss: 1.9422, Test Loss: 1.8699\n",
            "Epoch 9/50, Train Loss: 1.7778, Test Loss: 1.7110\n",
            "Epoch 10/50, Train Loss: 1.6368, Test Loss: 1.5869\n",
            "Epoch 11/50, Train Loss: 1.5207, Test Loss: 1.4744\n",
            "Epoch 12/50, Train Loss: 1.4128, Test Loss: 1.3787\n",
            "Epoch 13/50, Train Loss: 1.3178, Test Loss: 1.2885\n",
            "Epoch 14/50, Train Loss: 1.2324, Test Loss: 1.2095\n",
            "Epoch 15/50, Train Loss: 1.1545, Test Loss: 1.1336\n",
            "Epoch 16/50, Train Loss: 1.0891, Test Loss: 1.0684\n",
            "Epoch 17/50, Train Loss: 1.0231, Test Loss: 1.0091\n",
            "Epoch 18/50, Train Loss: 0.9650, Test Loss: 0.9527\n",
            "Epoch 19/50, Train Loss: 0.9112, Test Loss: 0.9000\n",
            "Epoch 20/50, Train Loss: 0.8634, Test Loss: 0.8539\n",
            "Epoch 21/50, Train Loss: 0.8206, Test Loss: 0.8159\n",
            "Epoch 22/50, Train Loss: 0.7793, Test Loss: 0.7733\n",
            "Epoch 23/50, Train Loss: 0.7432, Test Loss: 0.7363\n",
            "Epoch 24/50, Train Loss: 0.7131, Test Loss: 0.7080\n",
            "Epoch 25/50, Train Loss: 0.6830, Test Loss: 0.6803\n",
            "Epoch 26/50, Train Loss: 0.6587, Test Loss: 0.6550\n",
            "Epoch 27/50, Train Loss: 0.6390, Test Loss: 0.6334\n",
            "Epoch 28/50, Train Loss: 0.6079, Test Loss: 0.6107\n",
            "Epoch 29/50, Train Loss: 0.5870, Test Loss: 0.5904\n",
            "Epoch 30/50, Train Loss: 0.5703, Test Loss: 0.5750\n",
            "Epoch 31/50, Train Loss: 0.5551, Test Loss: 0.5560\n",
            "Epoch 32/50, Train Loss: 0.5376, Test Loss: 0.5429\n",
            "Epoch 33/50, Train Loss: 0.5244, Test Loss: 0.5325\n",
            "Epoch 34/50, Train Loss: 0.5141, Test Loss: 0.5170\n",
            "Epoch 35/50, Train Loss: 0.5043, Test Loss: 0.5091\n",
            "Epoch 36/50, Train Loss: 0.4959, Test Loss: 0.4981\n",
            "Epoch 37/50, Train Loss: 0.4834, Test Loss: 0.4885\n",
            "Epoch 38/50, Train Loss: 0.4731, Test Loss: 0.4809\n",
            "Epoch 39/50, Train Loss: 0.4686, Test Loss: 0.4769\n",
            "Epoch 40/50, Train Loss: 0.4596, Test Loss: 0.4708\n",
            "Epoch 41/50, Train Loss: 0.4527, Test Loss: 0.4630\n",
            "Epoch 42/50, Train Loss: 0.4486, Test Loss: 0.4592\n",
            "Epoch 43/50, Train Loss: 0.4436, Test Loss: 0.4504\n",
            "Epoch 44/50, Train Loss: 0.4407, Test Loss: 0.4474\n",
            "Epoch 45/50, Train Loss: 0.4352, Test Loss: 0.4407\n",
            "Epoch 46/50, Train Loss: 0.4270, Test Loss: 0.4391\n",
            "Epoch 47/50, Train Loss: 0.4237, Test Loss: 0.4348\n",
            "Epoch 48/50, Train Loss: 0.4229, Test Loss: 0.4315\n",
            "Epoch 49/50, Train Loss: 0.4169, Test Loss: 0.4260\n",
            "Epoch 50/50, Train Loss: 0.4165, Test Loss: 0.4258\n"
          ]
        }
      ]
    },
    {
      "cell_type": "markdown",
      "source": [
        "**5.3. Нейросеть с тремя скрытыми слоями с оптимизатором Adam**"
      ],
      "metadata": {
        "id": "6fkeLRZkzMgZ"
      }
    },
    {
      "cell_type": "code",
      "source": [
        "# Определение модели\n",
        "class DeepNet(nn.Module):\n",
        "    def __init__(self, input_size, hidden_size1, hidden_size2, hidden_size3):\n",
        "        super(DeepNet, self).__init__()\n",
        "        self.fc1 = nn.Linear(input_size, hidden_size1)\n",
        "        self.fc2 = nn.Linear(hidden_size1, hidden_size2)\n",
        "        self.fc3 = nn.Linear(hidden_size2, hidden_size3)\n",
        "        self.fc4 = nn.Linear(hidden_size3, 1)\n",
        "\n",
        "    def forward(self, x):\n",
        "        x = torch.relu(self.fc1(x))\n",
        "        x = torch.relu(self.fc2(x))\n",
        "        x = torch.relu(self.fc3(x))\n",
        "        return self.fc4(x)\n",
        "\n",
        "# Инициализация модели, функции потерь и оптимизатора\n",
        "model_deep = DeepNet(X_train_scaled.shape[1], 64, 32, 16)\n",
        "criterion = nn.MSELoss()\n",
        "optimizer = optim.Adam(model_deep.parameters(), lr=0.001)\n",
        "\n",
        "# Обучение модели\n",
        "train_losses_deep = []\n",
        "test_losses_deep = []\n",
        "\n",
        "for epoch in range(num_epochs):\n",
        "    model_deep.train()\n",
        "    train_loss = 0\n",
        "    for X_batch, y_batch in train_loader:\n",
        "        optimizer.zero_grad()\n",
        "        outputs = model_deep(X_batch)\n",
        "        loss = criterion(outputs, y_batch)\n",
        "        loss.backward()\n",
        "        optimizer.step()\n",
        "        train_loss += loss.item()\n",
        "    train_losses_deep.append(train_loss / len(train_loader))\n",
        "\n",
        "    model_deep.eval()\n",
        "    test_loss = 0\n",
        "    with torch.no_grad():\n",
        "        for X_batch, y_batch in test_loader:\n",
        "            outputs = model_deep(X_batch)\n",
        "            loss = criterion(outputs, y_batch)\n",
        "            test_loss += loss.item()\n",
        "    test_losses_deep.append(test_loss / len(test_loader))\n",
        "\n",
        "    print(f'Epoch {epoch+1}/{num_epochs}, Train Loss: {train_losses_deep[-1]:.4f}, Test Loss: {test_losses_deep[-1]:.4f}')"
      ],
      "metadata": {
        "colab": {
          "base_uri": "https://localhost:8080/"
        },
        "id": "U4bsBfTXzOwI",
        "outputId": "c7d4aa0d-111e-4a76-8064-fa6ff9d8ffde"
      },
      "execution_count": 14,
      "outputs": [
        {
          "output_type": "stream",
          "name": "stdout",
          "text": [
            "Epoch 1/50, Train Loss: 26.2491, Test Loss: 16.3503\n",
            "Epoch 2/50, Train Loss: 6.0590, Test Loss: 2.5227\n",
            "Epoch 3/50, Train Loss: 2.2138, Test Loss: 1.7959\n",
            "Epoch 4/50, Train Loss: 1.6958, Test Loss: 1.4348\n",
            "Epoch 5/50, Train Loss: 1.3907, Test Loss: 1.1895\n",
            "Epoch 6/50, Train Loss: 1.1422, Test Loss: 0.9696\n",
            "Epoch 7/50, Train Loss: 0.9342, Test Loss: 0.8009\n",
            "Epoch 8/50, Train Loss: 0.7843, Test Loss: 0.6757\n",
            "Epoch 9/50, Train Loss: 0.6831, Test Loss: 0.5871\n",
            "Epoch 10/50, Train Loss: 0.6066, Test Loss: 0.5067\n",
            "Epoch 11/50, Train Loss: 0.5595, Test Loss: 0.4617\n",
            "Epoch 12/50, Train Loss: 0.5007, Test Loss: 0.4293\n",
            "Epoch 13/50, Train Loss: 0.4690, Test Loss: 0.4178\n",
            "Epoch 14/50, Train Loss: 0.4580, Test Loss: 0.3873\n",
            "Epoch 15/50, Train Loss: 0.4352, Test Loss: 0.4762\n",
            "Epoch 16/50, Train Loss: 0.4403, Test Loss: 0.4168\n",
            "Epoch 17/50, Train Loss: 0.4190, Test Loss: 0.3663\n",
            "Epoch 18/50, Train Loss: 0.4035, Test Loss: 0.3610\n",
            "Epoch 19/50, Train Loss: 0.3983, Test Loss: 0.3525\n",
            "Epoch 20/50, Train Loss: 0.3909, Test Loss: 0.3462\n",
            "Epoch 21/50, Train Loss: 0.3863, Test Loss: 0.3681\n",
            "Epoch 22/50, Train Loss: 0.3808, Test Loss: 0.3585\n",
            "Epoch 23/50, Train Loss: 0.3824, Test Loss: 0.3512\n",
            "Epoch 24/50, Train Loss: 0.3725, Test Loss: 0.3365\n",
            "Epoch 25/50, Train Loss: 0.3717, Test Loss: 0.3395\n",
            "Epoch 26/50, Train Loss: 0.3723, Test Loss: 0.3331\n",
            "Epoch 27/50, Train Loss: 0.3624, Test Loss: 0.3466\n",
            "Epoch 28/50, Train Loss: 0.3631, Test Loss: 0.3495\n",
            "Epoch 29/50, Train Loss: 0.3613, Test Loss: 0.3448\n",
            "Epoch 30/50, Train Loss: 0.3498, Test Loss: 0.3341\n",
            "Epoch 31/50, Train Loss: 0.3481, Test Loss: 0.3595\n",
            "Epoch 32/50, Train Loss: 0.3439, Test Loss: 0.3371\n",
            "Epoch 33/50, Train Loss: 0.3410, Test Loss: 0.3383\n",
            "Epoch 34/50, Train Loss: 0.3397, Test Loss: 0.3373\n",
            "Epoch 35/50, Train Loss: 0.3425, Test Loss: 0.3570\n",
            "Epoch 36/50, Train Loss: 0.3285, Test Loss: 0.3354\n",
            "Epoch 37/50, Train Loss: 0.3300, Test Loss: 0.3565\n",
            "Epoch 38/50, Train Loss: 0.3308, Test Loss: 0.3688\n",
            "Epoch 39/50, Train Loss: 0.3242, Test Loss: 0.3666\n",
            "Epoch 40/50, Train Loss: 0.3253, Test Loss: 0.3472\n",
            "Epoch 41/50, Train Loss: 0.3294, Test Loss: 0.3699\n",
            "Epoch 42/50, Train Loss: 0.3321, Test Loss: 0.3769\n",
            "Epoch 43/50, Train Loss: 0.3164, Test Loss: 0.3411\n",
            "Epoch 44/50, Train Loss: 0.3113, Test Loss: 0.3443\n",
            "Epoch 45/50, Train Loss: 0.3153, Test Loss: 0.3542\n",
            "Epoch 46/50, Train Loss: 0.3236, Test Loss: 0.3547\n",
            "Epoch 47/50, Train Loss: 0.3122, Test Loss: 0.3373\n",
            "Epoch 48/50, Train Loss: 0.3050, Test Loss: 0.3499\n",
            "Epoch 49/50, Train Loss: 0.3017, Test Loss: 0.3401\n",
            "Epoch 50/50, Train Loss: 0.3050, Test Loss: 0.3521\n"
          ]
        }
      ]
    },
    {
      "cell_type": "markdown",
      "source": [
        "# 6. Визуализация кривых обучения"
      ],
      "metadata": {
        "id": "eENP63PbzTaY"
      }
    },
    {
      "cell_type": "code",
      "source": [
        "import matplotlib.pyplot as plt\n",
        "\n",
        "# График для однослойной модели\n",
        "plt.plot(train_losses, label='Train Loss (Simple)')\n",
        "plt.plot(test_losses, label='Test Loss (Simple)')\n",
        "plt.xlabel('Epoch')\n",
        "plt.ylabel('Loss')\n",
        "plt.legend()\n",
        "plt.show()\n",
        "\n",
        "# График для модели с одним скрытым слоем\n",
        "plt.plot(train_losses_hidden, label='Train Loss (Hidden)')\n",
        "plt.plot(test_losses_hidden, label='Test Loss (Hidden)')\n",
        "plt.xlabel('Epoch')\n",
        "plt.ylabel('Loss')\n",
        "plt.legend()\n",
        "plt.show()\n",
        "\n",
        "# График для модели с тремя скрытыми слоями\n",
        "plt.plot(train_losses_deep, label='Train Loss (Deep)')\n",
        "plt.plot(test_losses_deep, label='Test Loss (Deep)')\n",
        "plt.xlabel('Epoch')\n",
        "plt.ylabel('Loss')\n",
        "plt.legend()\n",
        "plt.show()"
      ],
      "metadata": {
        "colab": {
          "base_uri": "https://localhost:8080/",
          "height": 1000
        },
        "id": "boEQyQiKzXD6",
        "outputId": "bc481782-1503-4d6f-9d7d-c519d20092a1"
      },
      "execution_count": 15,
      "outputs": [
        {
          "output_type": "display_data",
          "data": {
            "text/plain": [
              "<Figure size 640x480 with 1 Axes>"
            ],
            "image/png": "[encoded data removed]"
          },
          "metadata": {}
        },
        {
          "output_type": "display_data",
          "data": {
            "text/plain": [
              "<Figure size 640x480 with 1 Axes>"
            ],
            "image/png": "[encoded data removed]"
          },
          "metadata": {}
        },
        {
          "output_type": "display_data",
          "data": {
            "text/plain": [
              "<Figure size 640x480 with 1 Axes>"
            ],
            "image/png": "[encoded data removed]"
          },
          "metadata": {}
        }
      ]
    },
    {
      "cell_type": "markdown",
      "source": [
        "# 7. Расчет метрик"
      ],
      "metadata": {
        "id": "nXxanHHmzbFN"
      }
    },
    {
      "cell_type": "code",
      "source": [
        "from sklearn.metrics import mean_absolute_error\n",
        "\n",
        "# Функция для расчета MAE\n",
        "def calculate_mae(model, loader):\n",
        "    model.eval()\n",
        "    predictions = []\n",
        "    true_values = []\n",
        "    with torch.no_grad():\n",
        "        for X_batch, y_batch in loader:\n",
        "            outputs = model(X_batch)\n",
        "            predictions.extend(outputs.numpy())\n",
        "            true_values.extend(y_batch.numpy())\n",
        "    return mean_absolute_error(true_values, predictions)\n",
        "\n",
        "# Расчет MAE для каждой модели\n",
        "mae_simple_train = calculate_mae(model_simple, train_loader)\n",
        "mae_simple_test = calculate_mae(model_simple, test_loader)\n",
        "\n",
        "mae_hidden_train = calculate_mae(model_hidden, train_loader)\n",
        "mae_hidden_test = calculate_mae(model_hidden, test_loader)\n",
        "\n",
        "mae_deep_train = calculate_mae(model_deep, train_loader)\n",
        "mae_deep_test = calculate_mae(model_deep, test_loader)\n",
        "\n",
        "print(f'MAE Simple Model: Train {mae_simple_train:.4f}, Test {mae_simple_test:.4f}')\n",
        "print(f'MAE Hidden Model: Train {mae_hidden_train:.4f}, Test {mae_hidden_test:.4f}')\n",
        "print(f'MAE Deep Model: Train {mae_deep_train:.4f}, Test {mae_deep_test:.4f}')"
      ],
      "metadata": {
        "colab": {
          "base_uri": "https://localhost:8080/"
        },
        "id": "W2Ighae9zeeY",
        "outputId": "bde75097-0ff7-49aa-9ed0-a5101b936cd8"
      },
      "execution_count": 16,
      "outputs": [
        {
          "output_type": "stream",
          "name": "stdout",
          "text": [
            "MAE Simple Model: Train 0.4996, Test 0.5040\n",
            "MAE Hidden Model: Train 0.4917, Test 0.5268\n",
            "MAE Deep Model: Train 0.4173, Test 0.4682\n"
          ]
        }
      ]
    },
    {
      "cell_type": "markdown",
      "source": [
        "#8. Ответы на вопросы"
      ],
      "metadata": {
        "id": "U8O2ueNBznK8"
      }
    },
    {
      "cell_type": "markdown",
      "source": [
        "\n",
        "\n",
        "Итог:\n",
        "\n",
        "* Лучшая модель — модель с тремя скрытыми слоями (Deep Model), так как она показала наименьший MAE на тестовой выборке.\n",
        "* Переобучение наблюдается в модели с одним скрытым слоем (Hidden Model).\n",
        "\n",
        "* Недообучение наблюдается в однослойной модели (Simple Model).\n",
        "\n",
        "* Для улучшения метрик можно попробовать изменить архитектуру моделей, добавить регуляризацию и настроить гиперпараметры.\n",
        "___________________________________________________________\n",
        "Какая модель справилась лучше с поставленной задачей?\n",
        "\n",
        "Лучше всего справилась модель с тремя скрытыми слоями (Deep Model), так как она показала наименьший MAE на тестовой выборке (0.4682). Это говорит о том, что данная модель лучше всего обобщает данные и предсказывает качество вина на новых данных.\n",
        "\n",
        "___________________________________________________________\n",
        "Имеет ли место переобучение?\n",
        "\n",
        "Переобучение наблюдается в модели с одним скрытым слоем (Hidden Model). На тренировочной выборке MAE составляет 0.4917, а на тестовой — 0.5268. Это свидетельствует о том, что модель слишком сильно адаптировалась к тренировочным данным и плохо обобщает новые данные.\n",
        "\n",
        "Для однослойной модели (Simple Model) переобучение не наблюдается, так как разница между тренировочным и тестовым MAE небольшая (0.4996 vs 0.5040).\n",
        "\n",
        "Для модели с тремя скрытыми слоями (Deep Model) переобучение также не наблюдается, так как разница между тренировочным и тестовым MAE небольшая (0.4173 vs 0.4682).\n",
        "___________________________________________________________\n",
        "Имеет ли место недообучение?\n",
        "\n",
        "Недообучение наблюдается в однослойной модели (Simple Model). Хотя разница между тренировочным и тестовым MAE небольшая, сами значения MAE достаточно высокие (0.4996 и 0.5040), что говорит о том, что модель недостаточно сложна для данных и не может хорошо аппроксимировать зависимость между признаками и целевой переменной.\n",
        "\n",
        "Для модели с одним скрытым слоем (Hidden Model) недообучение не наблюдается, но переобучение приводит к худшим результатам на тестовой выборке.\n",
        "\n",
        "Для модели с тремя скрытыми слоями (Deep Model) недообучение не наблюдается, так как MAE на тестовой выборке (0.4682) является самым низким среди всех моделей.\n",
        "___________________________________________________________\n",
        "Как можно улучшить метрики моделей?\n",
        "\n",
        "Для однослойной модели (Simple Model):\n",
        "* Увеличить сложность модели, добавив больше скрытых слоев или нейронов.\n",
        "* Попробовать другие функции активации (например, ReLU вместо линейной функции).\n",
        "* Увеличить количество эпох обучения.\n",
        "\n",
        "Для модели с одним скрытым слоем (Hidden Model):\n",
        "* Уменьшить переобучение с помощью регуляризации (например, Dropout).\n",
        "* Попробовать уменьшить количество нейронов в скрытом слое.\n",
        "* Использовать более низкую скорость обучения (learning rate).\n",
        "\n",
        "Для модели с тремя скрытыми слоями (Deep Model):\n",
        "* Улучшение метрик возможно за счет более тщательной настройки гиперпараметров (например, количества нейронов, скорости обучения, количества эпох).\n",
        "* Попробовать использовать более сложные архитектуры (например, добавить Batch Normalization или Dropout для предотвращения переобучения).\n",
        "* Попробовать другие оптимизаторы, такие как AdamW или RMSprop."
      ],
      "metadata": {
        "id": "CSgqoIwbzotE"
      }
    }
  ]
}