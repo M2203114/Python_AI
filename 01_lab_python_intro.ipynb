{
  "nbformat": 4,
  "nbformat_minor": 0,
  "metadata": {
    "colab": {
      "provenance": [],
      "authorship_tag": "ABX9TyN2uYpQeLA4mVKrhYmL/qg0",
      "include_colab_link": true
    },
    "kernelspec": {
      "name": "python3",
      "display_name": "Python 3"
    },
    "language_info": {
      "name": "python"
    }
  },
  "cells": [
    {
      "cell_type": "markdown",
      "metadata": {
        "id": "view-in-github",
        "colab_type": "text"
      },
      "source": [
        "<a href=\"https://colab.research.google.com/github/M2203114/Python_AI/blob/fall2024/01_lab_python_intro.ipynb\" target=\"_parent\"><img src=\"https://colab.research.google.com/assets/colab-badge.svg\" alt=\"Open In Colab\"/></a>"
      ]
    },
    {
      "cell_type": "markdown",
      "source": [
        "# Попов Е.Б.  БИВТ-22-СП-4"
      ],
      "metadata": {
        "id": "aea_j8NIXSn8"
      }
    },
    {
      "cell_type": "markdown",
      "source": [
        "# \t1. Базовые типы переменных"
      ],
      "metadata": {
        "id": "LlaYRBTRBVxQ"
      }
    },
    {
      "cell_type": "code",
      "source": [
        "int_variable = 42  # int\n",
        "assert isinstance(int_variable, int)\n",
        "\n",
        "float_variable = 3.14  # float\n",
        "assert isinstance(float_variable, float)\n",
        "\n",
        "string_variable = \"Hello, World!\"  # string\n",
        "assert isinstance(string_variable, str)\n",
        "\n",
        "bool_variable = True  # bool\n",
        "assert isinstance(bool_variable, bool)\n",
        "\n",
        "list_variable = [1, 2, 3]  # list\n",
        "assert isinstance(list_variable, list)\n",
        "\n",
        "tuple_variable = (1, 2, 3)  # tuple\n",
        "assert isinstance(tuple_variable, tuple)\n",
        "\n",
        "set_variable = {1, 2, 3}  # set\n",
        "assert isinstance(set_variable, set)\n",
        "\n",
        "dict_variable = {'a': 1, 'b': 2}  # dict\n",
        "assert isinstance(dict_variable, dict)"
      ],
      "metadata": {
        "id": "d5vupNMdBelz"
      },
      "execution_count": null,
      "outputs": []
    },
    {
      "cell_type": "markdown",
      "source": [
        "# 2.1 Различные функции\n"
      ],
      "metadata": {
        "id": "9Tek4lvECQ7E"
      }
    },
    {
      "cell_type": "code",
      "source": [
        "def difference_of_two_numbers(first, second):\n",
        "      \"\"\"Возвращает разницу между первым и вторым аргументом\"\"\"\n",
        "      return first - second\n",
        "\n",
        "# Тесты\n",
        "assert difference_of_two_numbers(2, 1) == 1\n",
        "assert difference_of_two_numbers(4, 1) == 3\n",
        "assert difference_of_two_numbers(10, 0) == 10\n",
        "assert difference_of_two_numbers(-5, -6) == 1"
      ],
      "metadata": {
        "id": "QpGYGYODCTw3"
      },
      "execution_count": null,
      "outputs": []
    },
    {
      "cell_type": "code",
      "source": [
        "def condition_function(input_number):\n",
        "    \"\"\"\n",
        "    Если входное число меньше либо равно 0, то умножить его на 2.\n",
        "    В противном случае, если число больше 0, но меньше или равно 10, умножить на 3.\n",
        "    Во всех прочих случаях поделить на 10.\n",
        "    \"\"\"\n",
        "    if input_number <= 0:\n",
        "        return input_number * 2\n",
        "    elif 0 < input_number <= 10:\n",
        "        return input_number * 3\n",
        "    else:\n",
        "        return input_number / 10\n",
        "\n",
        "# Тесты\n",
        "assert condition_function(0) == 0\n",
        "assert condition_function(-1) == -2\n",
        "assert condition_function(1) == 3\n",
        "assert condition_function(10) == 30\n",
        "assert condition_function(11) == 1.1\n",
        "assert condition_function(20) == 2"
      ],
      "metadata": {
        "id": "XJ7_4rYXCont"
      },
      "execution_count": null,
      "outputs": []
    },
    {
      "cell_type": "code",
      "source": [
        "def calculator(number_1, operation, number_2):\n",
        "    \"\"\"\n",
        "    Простой оператор, способный выполнять операции +, -, *, /.\n",
        "    На входе первое число, операция в виде строки и второе число.\n",
        "\n",
        "    Пример:\n",
        "    >>> calculator(1, \"+\", 1)\n",
        "    >>> 2\n",
        "    \"\"\"\n",
        "    if operation == \"+\":\n",
        "        return number_1 + number_2\n",
        "    elif operation == \"-\":\n",
        "        return number_1 - number_2\n",
        "    elif operation == \"*\":\n",
        "        return number_1 * number_2\n",
        "    elif operation == \"/\":\n",
        "        if number_2 == 0:\n",
        "            raise ValueError(\"Деление на ноль невозможно\")\n",
        "        return number_1 / number_2\n",
        "    else:\n",
        "        raise ValueError(\"Неподдерживаемая операция\")\n",
        "\n",
        "# Тесты\n",
        "assert calculator(1, \"+\", 2) == 3\n",
        "assert calculator(3, \"-\", 1) == 2\n",
        "assert calculator(4, \"*\", 3) == 12\n",
        "assert calculator(2, \"/\", 2) == 1"
      ],
      "metadata": {
        "id": "cehudLW1HK6h"
      },
      "execution_count": null,
      "outputs": []
    },
    {
      "cell_type": "code",
      "source": [
        "def number_of_unique_elements(input_list):\n",
        "    \"\"\"\n",
        "    Считает количество уникальных элементов в листе.\n",
        "    \"\"\"\n",
        "    unique_elements = []\n",
        "    for element in input_list:\n",
        "        if element not in unique_elements:\n",
        "            unique_elements.append(element)\n",
        "    return len(unique_elements)\n",
        "\n",
        "# Тесты\n",
        "assert number_of_unique_elements([1, 2, 3]) == 3\n",
        "assert number_of_unique_elements([1] * 93) == 1\n",
        "assert number_of_unique_elements(list(range(1000))) == 1000"
      ],
      "metadata": {
        "id": "UYoxW1qZHTJw"
      },
      "execution_count": null,
      "outputs": []
    },
    {
      "cell_type": "code",
      "source": [
        "def counter(input_list):\n",
        "    \"\"\"\n",
        "    Считает количество вхождений каждого из элементов листа.\n",
        "    Возвращает словарь вида {число: количество вхождений}\n",
        "\n",
        "    Замечание (!): встроенным в collections Counter'ом пользоваться нельзя\n",
        "\n",
        "    Например:\n",
        "    counter([1, 1, 2, 3]) вернет {1: 2, 2: 1, 3: 1}\n",
        "    \"\"\"\n",
        "    result = {}\n",
        "    for element in input_list:\n",
        "        if element in result:\n",
        "            result[element] += 1\n",
        "        else:\n",
        "            result[element] = 1\n",
        "    return result\n",
        "\n",
        "# Тесты\n",
        "assert counter([1, 1, 1, 2, 3]) == {1: 3, 2: 1, 3: 1}\n",
        "assert counter([1] * 1000) == {1: 1000}\n",
        "assert counter([1, 3, 5] * 100) == {1: 100, 3: 100, 5: 100}"
      ],
      "metadata": {
        "id": "D27XX8i-H2aD"
      },
      "execution_count": null,
      "outputs": []
    },
    {
      "cell_type": "code",
      "source": [
        "import math\n",
        "\n",
        "def multiply_nums(input_string):\n",
        "    \"\"\"\n",
        "    Перемножить числа, переданные в строке, перечисленные через запятую.\n",
        "\n",
        "    hint: можно использовать метод .split()\n",
        "    \"\"\"\n",
        "    # Разделяем строку на числа\n",
        "    num_strings = input_string.split(\", \")\n",
        "\n",
        "    # Преобразуем строки в числа\n",
        "    numbers = [int(num) for num in num_strings]\n",
        "\n",
        "    # Перемножаем числа с использованием math.prod\n",
        "    result = math.prod(numbers)\n",
        "\n",
        "    return result\n",
        "\n",
        "\n",
        "# Тесты для multiply_nums\n",
        "assert multiply_nums(\"2, 3\") == 6\n",
        "assert multiply_nums(\"1, 1, 1, 1, 1, 1, 1\") == 1\n",
        "assert multiply_nums(\"345, 4576, 794, 325, 0\") == 0\n",
        "\n"
      ],
      "metadata": {
        "id": "XMt2P5XTIvTi"
      },
      "execution_count": null,
      "outputs": []
    },
    {
      "cell_type": "markdown",
      "source": [
        "![Снимок экрана 2024-11-19 233243.png](data:image/png;base64,iVBORw0KGgoAAAANSUhEUgAAAJsAAAA1CAYAAABWd5kSAAAAAXNSR0IArs4c6QAAAARnQU1BAACxjwv8YQUAAAAJcEhZcwAADsMAAA7DAcdvqGQAAAleSURBVHhe7Zx/bJPHGce/BaZkQgsjUlCRisgLFpqSih9h85SIUldspKUhtE3LH2Rp5SlMzsKUDMYMqAvwR8ZE00CpGaMJkCZMawJCsxmbg4LsisgpjeysyA4LdroQR/KWSGF2FWpPVLfnfd8zMYaW2MleBXQfKYnvXue95+6+7z3fOweeYgQEAg2Yw38KBP93hNgEmiHEJtAMITaBZgixCTRDiE2gGUJsAs0QYhNohhCbQDOE2ASaIcQm0AwhNoFmCLEJNEOITaAZQmwCzRBiE2iGEJtAM4TYHkoEPe9U4d3uCC8/muDFWlSd9iHGy7OWOwF0/HoPOganGmkQtl1VaO6fgZ7Jfxb+RDLuZu0nrcw7wcsp4D1VxsqOuVmUl6dGmDne1jPjuWFeno3IMa5nNbYUYxx3sDq9kbUP8XKaPLFi87eUMclgZtah1CTDhtqZUV/HHOO8nAry70omZg3x8iwjerWe6Y2tzJ/ikMgMnzMyqdrKRnk5HZ7clS0tosx1WM9KGlNd1eKEmX23xEpa/Lw8mxhm7UaJmS6kufKO25lZKmGtA7ycBsKzJRLzwHFiDAVr8pHBq1IjC3mFxfCddcLHa2YNt3pgcxahaOUSXpEiC/NQVOxDW3f6PZvmP+UjI/2+GdaBGBxfvYLzJ0ohdyXW14zaIxnY0VqBfPWNM88d6vi+Q3A/vQYLBvsQe+MIfrcxB7H+Npg/oAEJerDkVxexqzCD4jkO84dejHwGvPnOdoxeaEUwKxO+zlG82HgClWu4tPqbsbnEiQrHWWxdqlapxBC4aIGlJ4JMmrTw85VYG3CQdY7BuXgHLv+yYFKc1NayMi+Ouk6g9GlelyKRm51oa2mnGIuQNWJHZBP1bZMqkshNGyzHOhB5xoCswQ4EVh7E0V8UksxVgld+i/0fRZC/PIq+wWex11KJfAoucmU/Vm/PwB9v7AMNySS0YbAdt8AVycRIbxiGyrUIOINU70TOzy9j1/cn3+x5fxleHziKa5ZS5PC6lFDWtzQZtZmY8ZSXhckLSFI5N5CyCZWYZGynhTuJqJe17zUz81S+Gh3f4A9UM15+0kvpbpTZd+rV9qJuZjHWM9e4lzW9LDH9YRddl9OHmdlDLlYvUVyvNdB1+R6jzFp9f5zhrjrqB/m1pE2FXF9O9wrLBVcDvUfP6jppA0JpSXrZwtyJOTdoZSbpx6zJx8spMnzJzNbra1h7gG4alo35ZIz3rg0okTA2QdepTzWX+Ej5mliZRH2l/kWvW+i1njW41OC8p0qYVEF+TSnFkcexnDVcVe/nOkxtkV+198rek+xA0iZp+IKJST9qYl5eTpVpic1/qZW5gjTZ5FOke8aTJpwGqJxEmBjozEJtyMIxWpjd42fe6y7mDlJroy7WeoHET4NeQgNdf5Xq7vqZvcXFhj0Wpo/XKaiCTDS98sMjSSTWpMDVfqqvlUnjExoecDFXfOLjhGSxSQnt3I+3pZziWM8aeh9ynf+u+hDJhJnfRX0bojYeuCbjZg3yOBySH6p4/PQg/MnFvD4vc7v86gNCuI/R+yqSFoD42CgFPh577fQ7arv+pE3S143PVJmWZ9NtqkDhvB78+Txg2GiATl5x+z2wj+Ugb4UuTd8zFQpQatkKne9dVJVtxOYtTQh8Ra3lFKLiVR18l5rgy9uKFwuobq4OxW8VItJnB7kxPKsESfT3wNoPFG9Y88iUoPTzGfnVGAY9lKINBchbSA5tRSEKV8QTWArkLEHmXP46gaCzA50ogmFdfOyyoCssRMHSrIdcI24F0Ec/ihapMeRs2I59hkyyF+VkBzaj6uOxb54DPjZKgv7XINw0HoaVedSq2q6O+jiTTHuDEPG5lUEoWrlIKY8Nuskcv4C1slFIJuZDx7492DOVryNOmtqHEYHnfDP6cg/i8rXP8fe/HEQxnLD1kM+Que2ElUy+4Y0t0A3Z0NEnH8wGMdhLIllXhDzuo3yfWCnOYrz0g0x4PuoksdLULlQcJ2L0OpHYiAc9N+k+ER/cf6XJXZcPpbe3Pei4wtuNc1f+lo8F85XSA+S/dRbXrp1FddwnJjA25qLvy6HLndq1YK8dLupD6QYdMEg+71wMxac/xuc3ruH0z/Ix9oEDHn4Wm5NTBESpb2qRE0OwrweB2w/OY6SvA85byst7ROW+5S1IfxHhK1zaqD6njLUG5NLwAz5oxqF0KFEaMtMWXlnNZY8k+xh+njZ6qYaum5hVSe8mtV72PpRuJj0I92tyyhhqZ6adVjVeJf3GvSfnLqUqxTdRKr1gpnvHU2SUUlM5ebekNKrEl95ZW9hRRylWTdFxRh0NzLjbyvqvJF2jftfoaRzO+SkStT/6bXE/SrE1lrCyuM8k1HlKSoG9DXRPiRkplVplKxS/PkE2ZRt5t6Q0qqTiaZy1zT1AcN2lRcYyHb7373N477IPQxdP4szlcaz+SQ22rVmEefw9M8rixVj15Wdw+kYQudGF1r+NY/0BM7auUJeS+d95CqGuLrhHAsBzO/CmnuK42YUDVxaics82rMqWo5qP7HkhdNq68Wl/Nn56gHbN36bqrBiGjr+H0PMmvJDLo58zD1/804nQlxPw/Wctaksy0Ha2ByGvEwFdNWo3L7nvSQ9+cgYt/y3CztdXURu8copk5NLK8l079h+wInhnAF3NNgwtLUFtlQFLlydcG+nGmW7gJfNBVG9YQuM8H7m52fjH1U8xMjqGnot/gGdRFX5T+RwWfYvfe+4Yej/sQvYrW2kM1DrM+QKDV0OYiPowvroWW+a3oa07BJ8zgNxqKi+9r2fobWlB9Ic7UbY6O7255aJLj7ujzJtgJKO0U9NLRtY6kPj4PE6oh7pSo5uXU0U91DW2yKvNbGMmDnWnN7fTO/pQUpZe3XrLS+9relbeOLl0P5Yoxwd1zJFOJ/hHXcnpZ7Ygp1J9afLxx9SQP67Svy3vVNNneitbyMHqjWXMdKiemSvNrMkx/HgLTSHKvL8vY3ryd6mR5ofcmqKeSZpsKbou+YN4Qw35YF5Ok2lvEJ5MwpROy7/2rOxhDNvMzNzinf0P24Sfte+UN068/Eho07fbzFqvT79n4n+eFGiG+CBeoBlCbALNEGITaIYQm0AzhNgEmiHEJtAMITaBZgixCTRDiE2gGUJsAs0QYhNohhCbQDOE2ASaIcQm0AwhNoFmCLEJNEOITaAZQmwCjQD+B3imkucUzjIbAAAAAElFTkSuQmCC)"
      ],
      "metadata": {
        "id": "ksqo_g4JKlu7"
      }
    },
    {
      "cell_type": "code",
      "source": [
        "def sin_cos_product(x):\n",
        "    \"\"\"\n",
        "    Вычисляет y = sin(x) * cos(x)\n",
        "    \"\"\"\n",
        "    return math.sin(x) * math.cos(x)\n",
        "\n",
        "\n",
        "assert round(sin_cos_product(1), 3) == 0.455\n",
        "assert round(sin_cos_product(1.5), 3) == 0.071\n",
        "assert round(sin_cos_product(2), 3) == -0.378\n",
        "assert sin_cos_product(0) == 0"
      ],
      "metadata": {
        "id": "DSaAKs6sJF_N"
      },
      "execution_count": null,
      "outputs": []
    },
    {
      "cell_type": "markdown",
      "source": [
        "![image.png](data:image/png;base64,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)"
      ],
      "metadata": {
        "id": "6apYixwwKw_4"
      }
    },
    {
      "cell_type": "code",
      "source": [
        "import math\n",
        "\n",
        "def custom_function_1(x, n):\n",
        "    \"\"\"\n",
        "    Реализуйте функцию, описанную выше.\n",
        "    \"\"\"\n",
        "    result = 1\n",
        "    for i in range(1, n + 1):\n",
        "        numerator = math.pow(i + 2, x) + math.log(x)\n",
        "        denominator = x**2 + 4 * i\n",
        "        result *= numerator / denominator\n",
        "    return result\n",
        "\n",
        "# Тесты\n",
        "assert round(custom_function_1(2, 3), 3) == 2.707\n",
        "assert round(custom_function_1(3, 2), 3) == 8.277\n",
        "assert round(custom_function_1(3, 3), 3) == 49.7"
      ],
      "metadata": {
        "id": "y7ZK7K6UKzDb"
      },
      "execution_count": null,
      "outputs": []
    },
    {
      "cell_type": "markdown",
      "source": [
        "# 2.2 Задачки на написание функций"
      ],
      "metadata": {
        "id": "h-Q88mdSLbLk"
      }
    },
    {
      "cell_type": "code",
      "source": [
        "def time_converter(n):\n",
        "    \"\"\"\n",
        "    Преобразует количество минут, прошедших с начала суток, в часы и минуты.\n",
        "    Возвращает строку в формате 'hours minutes'.\n",
        "    \"\"\"\n",
        "    # Вычисляем количество часов, прошедших с начала суток\n",
        "    hours = (n // 60) % 24\n",
        "    # Вычисляем количество минут, прошедших с последнего часа\n",
        "    minutes = n % 60\n",
        "    # Возвращаем результат в виде строки 'hours minutes'\n",
        "    return f'{hours} {minutes}'\n",
        "\n",
        "# Тесты\n",
        "assert time_converter(2782) == '22 22'\n",
        "assert time_converter(4733) == '6 53'\n",
        "assert time_converter(1766) == '5 26'\n",
        "assert time_converter(3865) == '16 25'\n",
        "assert time_converter(4628) == '5 8'\n",
        "assert time_converter(4353) == '0 33'\n",
        "assert time_converter(268) == '4 28'\n",
        "assert time_converter(4373) == '0 53'\n",
        "assert time_converter(2722) == '21 22'\n",
        "assert time_converter(1531) == '1 31'"
      ],
      "metadata": {
        "id": "MVvkwG27LgDE"
      },
      "execution_count": null,
      "outputs": []
    },
    {
      "cell_type": "code",
      "source": [
        "def min_of_three_values(a, b, c):\n",
        "    \"\"\"\n",
        "    Возвращает минимальное значение из трех чисел.\n",
        "    Использует только условные операторы if.\n",
        "    \"\"\"\n",
        "    if a <= b and a <= c:\n",
        "        return a\n",
        "    elif b <= a and b <= c:\n",
        "        return b\n",
        "    else:\n",
        "        return c\n",
        "\n",
        "# Тесты\n",
        "assert min_of_three_values(1, 2, 3) == 1\n",
        "assert min_of_three_values(1, 1, 9) == 1\n",
        "assert min_of_three_values(18, 7, 11) == 7\n",
        "assert min_of_three_values(2, 10, 10) == 2\n",
        "assert min_of_three_values(17, 14, 17) == 14\n",
        "assert min_of_three_values(9, 2, 10) == 2\n",
        "assert min_of_three_values(7, 4, 7) == 4\n",
        "assert min_of_three_values(0, 8, 3) == 0\n",
        "assert min_of_three_values(8, 10, 6) == 6\n",
        "assert min_of_three_values(1, 4, 8) == 1"
      ],
      "metadata": {
        "id": "hlvuW9qdLxUx"
      },
      "execution_count": null,
      "outputs": []
    },
    {
      "cell_type": "code",
      "source": [
        "def remove_symbol(s, symbol):\n",
        "    \"\"\"\n",
        "    Удаляет все вхождения указанного символа из строки.\n",
        "    Использует метод .replace().\n",
        "    \"\"\"\n",
        "    return s.replace(symbol, '')\n",
        "\n",
        "# Тесты\n",
        "assert remove_symbol('aaaaaaaa', 'a') == ''\n",
        "assert remove_symbol('abababa', 'b') == 'aaaa'\n",
        "assert remove_symbol('12341234', '3') == '124124'"
      ],
      "metadata": {
        "id": "_Nryob1qMEQ9"
      },
      "execution_count": null,
      "outputs": []
    },
    {
      "cell_type": "code",
      "source": [
        "def remove_each_third_sym(s):\n",
        "    \"\"\"\n",
        "    Удаляет каждый третий символ из строки, считая человеческие индексы (начиная с 1).\n",
        "    Возвращает новую строку.\n",
        "    \"\"\"\n",
        "    # Создаем пустую строку для результата\n",
        "    result = ''\n",
        "    # Проходим по строке с шагом 3\n",
        "    for i in range(0, len(s), 3):\n",
        "        # Добавляем к результату первые два символа из текущей тройки\n",
        "        result += s[i:i+2]\n",
        "    return result\n",
        "\n",
        "# Тесты\n",
        "assert remove_each_third_sym('abcdef') == 'abde'\n",
        "assert remove_each_third_sym('sdfasdfasdfsfa') == 'sdasfadffa'\n",
        "assert remove_each_third_sym('123456789') == '124578'\n",
        "assert remove_each_third_sym('987654321') == '986532'"
      ],
      "metadata": {
        "id": "9ATSMMHvMGZ1"
      },
      "execution_count": null,
      "outputs": []
    },
    {
      "cell_type": "code",
      "source": [
        "def find_max(lst):\n",
        "    \"\"\"\n",
        "    Находит максимальный элемент и его индекс в списке.\n",
        "    Возвращает кортеж с максимальным значением и его индексом.\n",
        "    \"\"\"\n",
        "    # Инициализируем переменные для максимального значения и его индекса\n",
        "    max_value = lst[0]\n",
        "    max_index = 0\n",
        "\n",
        "    # Проходим по списку, начиная с первого элемента\n",
        "    for i in range(1, len(lst)):\n",
        "        if lst[i] > max_value:\n",
        "            max_value = lst[i]\n",
        "            max_index = i\n",
        "\n",
        "    return (max_value, max_index)\n",
        "\n",
        "# Тесты\n",
        "assert find_max([1, 2, 3, 4, 5]) == (5, 4)\n",
        "assert find_max([5, 4, 3, 2, 1]) == (5, 0)\n",
        "assert find_max([96, 82, 72, 48, 93, 88, 79]) == (96, 0)\n",
        "assert find_max([49, 75, 65, 65, 65, 18]) == (75, 1)\n",
        "assert find_max([69, 16, 64, 54, 36, 70, 89, 29]) == (89, 6)\n",
        "assert find_max([17, 80, 27, 36, 21, 85, 63, 27]) == (85, 5)\n",
        "assert find_max([76, 27, 73, 65, 52]) == (76, 0)\n",
        "assert find_max([33, 26, 69, 40, 93]) == (93, 4)\n",
        "assert find_max([87, 5, 95, 52, 21, 76, 22]) == (95, 2)\n",
        "assert find_max([75, 18, 89, 99, 70]) == (99, 3)"
      ],
      "metadata": {
        "id": "WJKziJO4Mj7-"
      },
      "execution_count": null,
      "outputs": []
    },
    {
      "cell_type": "code",
      "source": [
        "def append_to_list(lst, value):\n",
        "    \"\"\"\n",
        "    Вставляет значение в конец списка.\n",
        "    Возвращает обновленный список.\n",
        "    \"\"\"\n",
        "    lst.append(value)\n",
        "    return lst\n",
        "\n",
        "# Тесты\n",
        "assert append_to_list([1, 2], 3) == [1, 2, 3]\n",
        "assert append_to_list([1, 2], None) == [1, 2, None]\n",
        "assert append_to_list([1, 's'], True) == [1, 's', True]"
      ],
      "metadata": {
        "id": "WksdOxpQMpzX"
      },
      "execution_count": null,
      "outputs": []
    },
    {
      "cell_type": "code",
      "source": [
        "def number_unique_elements(lst):\n",
        "    \"\"\"\n",
        "    Возвращает количество уникальных элементов в списке.\n",
        "    Использует множества (set).\n",
        "    \"\"\"\n",
        "    return len(set(lst))\n",
        "\n",
        "# Тесты\n",
        "assert number_unique_elements([1, 2, 3]) == 3\n",
        "assert number_unique_elements([1, 2, 1]) == 2\n",
        "assert number_unique_elements([1, 1, 1, 1]) == 1\n",
        "assert number_unique_elements([1, 2, 1, 2]) == 2"
      ],
      "metadata": {
        "id": "zXXjH3gWMqOc"
      },
      "execution_count": null,
      "outputs": []
    },
    {
      "cell_type": "markdown",
      "source": [
        "# 3. Классы"
      ],
      "metadata": {
        "id": "ZZkH_BA6My3f"
      }
    },
    {
      "cell_type": "code",
      "source": [
        "class Vehicle:\n",
        "    def __init__(self, max_speed, mileage):\n",
        "        \"\"\"\n",
        "        Конструктор класса Vehicle.\n",
        "        Инициализирует атрибуты max_speed и mileage.\n",
        "        \"\"\"\n",
        "        self.max_speed = max_speed\n",
        "        self.mileage = mileage\n",
        "\n",
        "# Тесты\n",
        "veh1 = Vehicle(100, 50)\n",
        "assert (veh1.max_speed, veh1.mileage) == (100, 50)\n",
        "\n",
        "veh2 = Vehicle(200, 3)\n",
        "assert (veh2.max_speed, veh2.mileage) == (200, 3)"
      ],
      "metadata": {
        "id": "xolhVxY-M1Ut"
      },
      "execution_count": null,
      "outputs": []
    },
    {
      "cell_type": "code",
      "source": [
        "class Truck(Vehicle):\n",
        "    \"\"\"\n",
        "    Класс Truck, наследующийся от класса Vehicle.\n",
        "    \"\"\"\n",
        "    pass\n",
        "\n",
        "# Тесты\n",
        "truck1 = Truck(50, 1000)\n",
        "assert (truck1.max_speed, truck1.mileage) == (50, 1000)\n",
        "\n",
        "truck2 = Truck(43, 235)\n",
        "assert (truck2.max_speed, truck2.mileage) == (43, 235)"
      ],
      "metadata": {
        "id": "qbN9bdtAM_Q9"
      },
      "execution_count": null,
      "outputs": []
    },
    {
      "cell_type": "code",
      "source": [
        "class MyList:\n",
        "    def __init__(self, lst):\n",
        "        \"\"\"\n",
        "        Конструктор класса MyList.\n",
        "        Инициализирует атрибут lst.\n",
        "        \"\"\"\n",
        "        self.lst = lst\n",
        "\n",
        "    def return_sum(self):\n",
        "        \"\"\"\n",
        "        Возвращает сумму всех элементов сохраненного листа.\n",
        "        Пользоваться sum нельзя!\n",
        "        \"\"\"\n",
        "        total = 0\n",
        "        for item in self.lst:\n",
        "            total += item\n",
        "        return total\n",
        "\n",
        "    def make_reverse(self):\n",
        "        \"\"\"\n",
        "        Разворачивает сохраненный лист.\n",
        "        \"\"\"\n",
        "        return self.lst[::-1]\n",
        "\n",
        "    def make_slice(self, start, stop):\n",
        "        \"\"\"\n",
        "        Делает слайсинг сохраненного листа.\n",
        "        \"\"\"\n",
        "        return self.lst[start:stop]\n",
        "\n",
        "# Тесты\n",
        "a = MyList([1, 2, 3, 4])\n",
        "assert a.return_sum() == 10\n",
        "assert a.make_reverse() == [4, 3, 2, 1]\n",
        "assert a.make_slice(0, 2) == [1, 2]\n",
        "\n",
        "b = MyList([5, 6, 6, 5])\n",
        "assert b.return_sum() == 22\n",
        "assert b.make_reverse() == [5, 6, 6, 5]\n",
        "assert b.make_slice(1, 2) == [6]"
      ],
      "metadata": {
        "id": "N8eKEPzcNS8x"
      },
      "execution_count": null,
      "outputs": []
    }
  ]
}